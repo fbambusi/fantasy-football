{
 "cells": [
  {
   "cell_type": "code",
   "execution_count": 1,
   "metadata": {
    "collapsed": true
   },
   "outputs": [],
   "source": [
    "import pandas as pd"
   ]
  },
  {
   "cell_type": "code",
   "execution_count": 2,
   "metadata": {
    "collapsed": true
   },
   "outputs": [],
   "source": [
    "from amplpy import AMPL,Environment\n",
    "ampl = AMPL(Environment('/home/asino/Downloads/ampl_linux-intel64/'))\n",
    "ampl.setOption(\"solver\",\"/home/asino/Downloads/ampl_linux-intel64/cplex\")\n",
    "ampl.setOption(\"absmipgap\",1)\n",
    "\n"
   ]
  },
  {
   "cell_type": "code",
   "execution_count": 3,
   "metadata": {
    "collapsed": true
   },
   "outputs": [],
   "source": [
    "ME=\"bryan\""
   ]
  },
  {
   "cell_type": "code",
   "execution_count": 4,
   "metadata": {},
   "outputs": [
    {
     "name": "stdout",
     "output_type": "stream",
     "text": [
      "{'DESILVESTRI': 0, 'ROMAGNOLIA': 0, 'PELLEGRINILO': 0, 'RUIZ': 0, 'PINAMONTI': 0, 'MANOLAS': 0, 'KOLAROV': 0, 'ALLAN': 0, 'BARELLA': 0, 'VERDI': 0, 'CRISTIANORONALDO': 0, 'BIRAGHI': 0, 'MALINOVSKYI': 0, 'LUCASLEIVA': 0, 'BONAVENTURA': 0, 'JUWARA': 0, 'GODIN': 0, 'FAZIO': 0, 'BRANCOLINI': 1, 'PETAGNA': 0, 'TOLOI': 0, 'RAMSEY': 0, 'SIRIGU': 0, 'MERET': 0, 'RABIOT': 0, 'OSPINA': 0, 'MURIEL': 0, 'RIBERY': 0}\n"
     ]
    }
   ],
   "source": [
    "bought=pd.read_csv(\"availability-of-players.csv\")\n",
    "dictOfMyPlayers={}\n",
    "dictOfBrokenPlayers={}\n",
    "for idx,player in bought.iterrows():\n",
    "    if player[\"Owner\"]==ME:\n",
    "        if player[\"CanPlay\"]==0:\n",
    "            dictOfBrokenPlayers[player[\"Name\"]]=1\n",
    "        else:\n",
    "            dictOfBrokenPlayers[player[\"Name\"]]=0\n",
    "print(dictOfBrokenPlayers)   "
   ]
  },
  {
   "cell_type": "code",
   "execution_count": 5,
   "metadata": {},
   "outputs": [
    {
     "name": "stdout",
     "output_type": "stream",
     "text": [
      "Warning:\n",
      "\t07-prepare-selection.mod\n",
      "\tline 33 offset 991\n",
      "\tCaution: 0-dimensional slice\n"
     ]
    }
   ],
   "source": [
    "ampl.read(\"07-prepare-selection.mod\")\n",
    "ampl.readData(\"operations-mantra-online.dat\")"
   ]
  },
  {
   "cell_type": "code",
   "execution_count": 6,
   "metadata": {
    "collapsed": true
   },
   "outputs": [],
   "source": [
    "def suggestTeam(dictOfBrokenPlayers):\n",
    "    plas=ampl.getSet(\"Players\").getValues()\n",
    "    valuesForBrokenPlayersAmpl={}\n",
    "    for name in plas:\n",
    "        name=name[0]\n",
    "        #print(name)\n",
    "        valuesForBrokenPlayersAmpl[name]=0\n",
    "    for player,value in dictOfBrokenPlayers.items():\n",
    "        valuesForBrokenPlayersAmpl[player]=value\n",
    "    ampl.getParameter(\"broken\").setValues(valuesForBrokenPlayersAmpl)\n",
    "        \n",
    "        \n",
    "        \n",
    "    \n",
    "    ampl.solve()\n"
   ]
  },
  {
   "cell_type": "code",
   "execution_count": 7,
   "metadata": {},
   "outputs": [
    {
     "name": "stdout",
     "output_type": "stream",
     "text": [
      "{}\n",
      "CPLEX 12.8.0.0: optimal integer solution; objective 75.28095488\n",
      "1655 MIP simplex iterations\n",
      "0 branch-and-bound nodes\n"
     ]
    }
   ],
   "source": [
    "print(dictOfMyPlayers)\n",
    "suggestTeam(dictOfBrokenPlayers)\n",
    "#suggestTeam({},{})"
   ]
  },
  {
   "cell_type": "code",
   "execution_count": 8,
   "metadata": {
    "scrolled": true
   },
   "outputs": [
    {
     "name": "stdout",
     "output_type": "stream",
     "text": [
      "m3511\n",
      "MANOLAS plays  in slot ['Dc']  TOP\n",
      "ROMAGNOLIA plays  in slot ['Dc']  TOP\n",
      "FAZIO plays  in slot ['Dc']  TOP\n",
      "ALLAN plays  in slot ['M']  TOP\n",
      "BARELLA plays  in slot ['M']  TOP\n",
      "KOLAROV plays  in slot ['E', 'W']  TOP\n",
      "BIRAGHI plays  in slot ['E', 'W']  TOP\n",
      "RUIZ plays  in slot ['C']  TOP\n",
      "CRISTIANORONALDO plays  in slot ['A', 'Pc']  TOP\n",
      "RAMSEY plays  in slot ['T', 'A']  TOP\n",
      "SIRIGU plays  in slot ['Por']  TOP\n",
      "GODIN plays  in slot ['Dc']  NO\n",
      "TOLOI plays  in slot ['Dc']  NO\n",
      "LUCASLEIVA plays  in slot ['M']  NO\n",
      "DESILVESTRI plays  in slot ['E', 'W']  NO\n",
      "RIBERY plays  in slot ['E', 'W']  NO\n",
      "RABIOT plays  in slot ['C']  NO\n",
      "PETAGNA plays  in slot ['A', 'Pc']  NO\n",
      "PELLEGRINILO plays  in slot ['T', 'A']  NO\n",
      "OSPINA plays  in slot ['Por']  NO\n",
      "Empty slots IN field: 0\n",
      "Empty slots out field: 2\n"
     ]
    }
   ],
   "source": [
    "putPlayerInSlot=ampl.getVariable(\"putPlayerInSlot\")\n",
    "cost=ampl.getParameter(\"cost\")\n",
    "pfs=ampl.getParameter(\"performance\")\n",
    "moduleChosen=ampl.getVariable(\"bidderChoosesModule\")\n",
    "\n",
    "roles=ampl.getSet(\"CompatibilityPlayerRole\").getValues().toDict()\n",
    "slots=ampl.getSet(\"CompatibilitySlotRole\").getValues().toDict()\n",
    "solution=putPlayerInSlot.getValues().toDict()\n",
    "costs=cost.getValues().toDict()\n",
    "pfs=pfs.getValues().toDict()\n",
    "modules=moduleChosen.getValues().toDict()\n",
    "moduleUsed=\"AAA\"\n",
    "\n",
    "\n",
    "for moduleName,taken in modules.items():\n",
    "    if taken>0.5:\n",
    "        #print(\"Module: {}\\n\\n\".format(moduleName))\n",
    "        moduleUsed=moduleName\n",
    "print(moduleUsed)\n",
    "myPls={}\n",
    "for key,val in solution.items():\n",
    "    \n",
    "    if key[0]==moduleUsed:\n",
    "        if val>0.5:\n",
    "            myPls[key[2]]=key[1]\n",
    "            #print(key,val)\n",
    "rolesA={}\n",
    "\n",
    "#To show the roles of each player\n",
    "for key,val in roles.items():\n",
    "    if key[0] not in rolesA.keys():\n",
    "        rolesA[key[0]]=[]\n",
    "    rolesA[key[0]].append(key[1])\n",
    "\n",
    "    \n",
    "mappingSlotNumberToPossibleRoles={}\n",
    "for key,val in slots.items():\n",
    "    if key[0]==moduleUsed:\n",
    "        \n",
    "        slotNr=key[1]\n",
    "        role=key[2]\n",
    "        if slotNr not in mappingSlotNumberToPossibleRoles.keys():\n",
    "            mappingSlotNumberToPossibleRoles[slotNr]=[]\n",
    "        mappingSlotNumberToPossibleRoles[slotNr].append(role)\n",
    "\n",
    "emptySlotsInField=0\n",
    "emptySlotsOutside=0\n",
    "for slotNr,possibleRoles in mappingSlotNumberToPossibleRoles.items():\n",
    "    if slotNr<=11:\n",
    "        privilege=\"TOP\"\n",
    "    else:\n",
    "        privilege=\"NO\"\n",
    "    try:\n",
    "        print(\"{} plays  in slot {}  {}\".format(myPls[slotNr], possibleRoles,privilege))\n",
    "    except KeyError:\n",
    "        if privilege==\"TOP\":\n",
    "            emptySlotsInField+=1\n",
    "        else:\n",
    "            emptySlotsOutside+=1\n",
    "print(\"Empty slots IN field: {}\".format(emptySlotsInField))\n",
    "print(\"Empty slots out field: {}\".format(emptySlotsOutside))"
   ]
  }
 ],
 "metadata": {
  "kernelspec": {
   "display_name": "Python 3",
   "language": "python",
   "name": "python3"
  },
  "language_info": {
   "codemirror_mode": {
    "name": "ipython",
    "version": 3
   },
   "file_extension": ".py",
   "mimetype": "text/x-python",
   "name": "python",
   "nbconvert_exporter": "python",
   "pygments_lexer": "ipython3",
   "version": "3.6.9"
  }
 },
 "nbformat": 4,
 "nbformat_minor": 2
}
