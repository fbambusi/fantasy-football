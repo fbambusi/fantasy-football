{
 "cells": [
  {
   "cell_type": "code",
   "execution_count": 1,
   "metadata": {
    "collapsed": true
   },
   "outputs": [],
   "source": [
    "import pandas as pd"
   ]
  },
  {
   "cell_type": "code",
   "execution_count": 2,
   "metadata": {
    "collapsed": true
   },
   "outputs": [],
   "source": [
    "from amplpy import AMPL,Environment\n",
    "ampl = AMPL(Environment('/home/asino/Downloads/ampl_linux-intel64/'))\n",
    "ampl.setOption(\"solver\",\"/home/asino/Downloads/ampl_linux-intel64/cplex\")"
   ]
  },
  {
   "cell_type": "code",
   "execution_count": 3,
   "metadata": {},
   "outputs": [],
   "source": [
    "dictOfMine={\"LUKAKUR\":100}\n",
    "dictOfPrices={}\n",
    "dictOfBoughtByOthers={}\n",
    "dictOfMyPlayers={}\n"
   ]
  },
  {
   "cell_type": "code",
   "execution_count": 4,
   "metadata": {},
   "outputs": [
    {
     "name": "stdout",
     "output_type": "stream",
     "text": [
      "Warning:\n",
      "\tonline-auction.mod\n",
      "\tline 39 offset 1150\n",
      "\tCaution: 0-dimensional slice\n"
     ]
    }
   ],
   "source": [
    "ampl.read(\"online-auction.mod\")\n",
    "ampl.readData(\"fantasy-auction-mantra-online.dat\")"
   ]
  },
  {
   "cell_type": "code",
   "execution_count": 5,
   "metadata": {},
   "outputs": [],
   "source": [
    "def suggestTeam():\n",
    "    plas=ampl.getSet(\"Players\").getValues()\n",
    "    \n",
    "    for name in plas:\n",
    "        name=name[0]\n",
    "        #print(name)\n",
    "        dictOfBoughtByOthers[name]=0\n",
    "        dictOfMyPlayers[name]=0\n",
    "    print(dictOfMyPlayers[\"ACERBI\"])\n",
    "    budget=500\n",
    "    for player,cost in dictOfPrices.items():\n",
    "        dictOfBoughtByOthers[player]=1\n",
    "    for player,cost in dictOfMine.items():\n",
    "        budget-=cost\n",
    "        dictOfMyPlayers[player]=1\n",
    "    print(dictOfMyPlayers[\"ACERBI\"])\n",
    "        \n",
    "    if dictOfBoughtByOthers:\n",
    "        ampl.getParameter(\"alreadyBoughtByOther\").setValues(dictOfBoughtByOthers)\n",
    "    if dictOfMyPlayers:\n",
    "        ampl.getParameter(\"alreadyBoughtByMe\").setValues(dictOfMyPlayers)\n",
    "        \n",
    "        \n",
    "    \n",
    "    ampl.getParameter(\"budget\").set(budget)\n",
    "    ampl.solve()\n"
   ]
  },
  {
   "cell_type": "code",
   "execution_count": 14,
   "metadata": {},
   "outputs": [
    {
     "name": "stdout",
     "output_type": "stream",
     "text": [
      "0\n",
      "1\n",
      "The license for this version of CPLEX will expire in 3.8 days.\n",
      "CPLEX 12.8.0.0: optimal integer solution within mipgap or absmipgap; objective 84.55672585\n",
      "18852 MIP simplex iterations\n",
      "0 branch-and-bound nodes\n",
      "absmipgap = 0.00474006, relmipgap = 5.60577e-05\n",
      "0\n",
      "1\n",
      "The license for this version of CPLEX will expire in 3.8 days.\n",
      "CPLEX 12.8.0.0: optimal integer solution within mipgap or absmipgap; objective 83.75751532\n",
      "1721 MIP simplex iterations\n",
      "0 branch-and-bound nodes\n",
      "absmipgap = 0.00226432, relmipgap = 2.70343e-05\n",
      "0\n",
      "1\n",
      "The license for this version of CPLEX will expire in 3.8 days.\n",
      "CPLEX 12.8.0.0: optimal integer solution within mipgap or absmipgap; objective 82.95146269\n",
      "1721 MIP simplex iterations\n",
      "0 branch-and-bound nodes\n",
      "absmipgap = 0.0066307, relmipgap = 7.99347e-05\n",
      "0\n",
      "1\n",
      "The license for this version of CPLEX will expire in 3.8 days.\n",
      "CPLEX 12.8.0.0: optimal integer solution within mipgap or absmipgap; objective 82.15239264\n",
      "19091 MIP simplex iterations\n",
      "0 branch-and-bound nodes\n",
      "absmipgap = 0.00401449, relmipgap = 4.88664e-05\n",
      "0\n",
      "1\n",
      "The license for this version of CPLEX will expire in 3.8 days.\n",
      "CPLEX 12.8.0.0: optimal integer solution within mipgap or absmipgap; objective 81.35217773\n",
      "18110 MIP simplex iterations\n",
      "0 branch-and-bound nodes\n",
      "absmipgap = 0.00254314, relmipgap = 3.12609e-05\n"
     ]
    }
   ],
   "source": [
    "prices=[40,50,60,70,80]\n",
    "\n",
    "objectives=[]\n",
    "for price in prices:\n",
    "    dictOfMine={\"ACERBI\":price}\n",
    "    \n",
    "    suggestTeam()\n",
    "    totalcost = ampl.getObjective('mp').value()\n",
    "    objectives.append(totalcost)"
   ]
  },
  {
   "cell_type": "code",
   "execution_count": 15,
   "metadata": {},
   "outputs": [
    {
     "name": "stdout",
     "output_type": "stream",
     "text": [
      "[84.55672584539637, 83.75751531908058, 82.95146268750163, 82.15239263819538, 81.35217773122416]\n"
     ]
    },
    {
     "data": {
      "image/png": "[encoded data removed]",
      "text/plain": [
       "<matplotlib.figure.Figure at 0x7f059330e240>"
      ]
     },
     "metadata": {},
     "output_type": "display_data"
    },
    {
     "name": "stdout",
     "output_type": "stream",
     "text": [
      "0.0\n"
     ]
    }
   ],
   "source": [
    "print(objectives)\n",
    "import matplotlib.pyplot as plt\n",
    "plt.plot(prices,objectives)\n",
    "plt.show()\n",
    "pls=ampl.getParameter(\"alreadyBoughtByMe\").getValues().toDict()\n",
    "#print(pls)\n",
    "print(pls[\"CRISTIANORONALDO\"])"
   ]
  },
  {
   "cell_type": "code",
   "execution_count": 16,
   "metadata": {},
   "outputs": [
    {
     "name": "stdout",
     "output_type": "stream",
     "text": [
      "[-0.08014219]\n",
      "0.9999981476635185\n"
     ]
    }
   ],
   "source": [
    "from sklearn.linear_model import LinearRegression\n",
    "import numpy as np\n",
    "import matplotlib.pyplot as plt\n",
    "X = np.asarray(prices).reshape((5,1))\n",
    "y=objectives\n",
    "reg = LinearRegression().fit(X, y)\n",
    "print(reg.coef_)\n",
    "print(reg.score(X, y))"
   ]
  },
  {
   "cell_type": "code",
   "execution_count": 9,
   "metadata": {
    "collapsed": true
   },
   "outputs": [],
   "source": [
    "buy=ampl.getVariable(\"buy\")\n",
    "cost=ampl.getParameter(\"cost\")\n",
    "moduleChosen=ampl.getVariable(\"bidderChoosesModule\")\n",
    "solution=buy.getValues().toDict()\n",
    "costs=cost.getValues().toDict()\n",
    "modules=moduleChosen.getValues().toDict()"
   ]
  },
  {
   "cell_type": "code",
   "execution_count": 10,
   "metadata": {},
   "outputs": [
    {
     "name": "stdout",
     "output_type": "stream",
     "text": [
      "Module: m442\n",
      "\n",
      "\n",
      "ADEKANYE 1.0\n",
      "BALOTELLI 29.395966506624898\n",
      "BARELLA 32.7672178527258\n",
      "BASELLI 34.2345197782608\n",
      "BERISHAE 1.0\n",
      "BIRAGHI 33.9325247510813\n",
      "DANILOLAR 1.0\n",
      "DENSWIL 1.0\n",
      "HANDANOVIC 29.389469124816397\n",
      "HATEBOER 36.355050077803504\n",
      "HERNANDEZT 1.0\n",
      "HYSAJ 10.2981313196454\n",
      "IACOPONI 33.6305297239018\n",
      "LUKIC 1.0\n",
      "MANDZUKIC 25.397882678618302\n",
      "MOROSINI 1.0\n",
      "MURILLO 1.0\n",
      "RODRIGUEZR 1.0\n",
      "ROSSETTINI 1.0\n",
      "SALAMON 1.0\n",
      "SANDRO 1.0\n",
      "SPALEK 1.0\n",
      "SUSO 41.958370853839796\n",
      "TOLJAN 1.0\n",
      "VERDI 1.61249173359262\n",
      "ZAPATAC 1.0\n",
      "ZMRHAL 1.0\n"
     ]
    }
   ],
   "source": [
    "for moduleName,taken in modules.items():\n",
    "    if taken>0.5:\n",
    "        print(\"Module: {}\\n\\n\".format(moduleName))\n",
    "for player,val in solution.items():\n",
    "    if val>0.5:\n",
    "        message=\"{} {}\".format(player,costs[player])\n",
    "        print(message)"
   ]
  }
 ],
 "metadata": {
  "kernelspec": {
   "display_name": "Python 3",
   "language": "python",
   "name": "python3"
  },
  "language_info": {
   "codemirror_mode": {
    "name": "ipython",
    "version": 3
   },
   "file_extension": ".py",
   "mimetype": "text/x-python",
   "name": "python",
   "nbconvert_exporter": "python",
   "pygments_lexer": "ipython3",
   "version": "3.6.9"
  }
 },
 "nbformat": 4,
 "nbformat_minor": 2
}
