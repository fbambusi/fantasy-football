{
 "cells": [
  {
   "cell_type": "code",
   "execution_count": 1,
   "metadata": {
    "collapsed": true
   },
   "outputs": [],
   "source": [
    "import pandas as pd"
   ]
  },
  {
   "cell_type": "code",
   "execution_count": 2,
   "metadata": {
    "collapsed": true
   },
   "outputs": [],
   "source": [
    "from bs4 import BeautifulSoup\n",
    "import urllib.request\n"
   ]
  },
  {
   "cell_type": "code",
   "execution_count": 3,
   "metadata": {},
   "outputs": [
    {
     "name": "stdout",
     "output_type": "stream",
     "text": [
      "{'CRISCITO': 90.0, 'STRAKOSHA': 90.0, 'ZIELINSKI': 55.0, 'KURTIC': 60.0, 'ZAPATAD': 80.0, 'IZZO': 90.0, 'NKOULOU': 0, 'KOULIBALY': 0, 'POLITANO': 55.0, 'KESSIE': 0, 'BONIFAZI': 60.0, 'MURRU': 85.0, 'RADU': 85.0, 'QUAGLIARELLA': 90.0, 'VERETOUT': 55.0, 'GOMEZA': 60.0, 'BONUCCI': 90.0, 'BERISHAE': 90.0, 'FLORENZI': 85.0, 'MARTINEZL': 65.0, 'CHIELLINI': 0, 'MILENKOVIC': 85.0, 'SUSO': 65.0, 'MANDRAGORA': 55.0, 'NANDEZ': 85.0, 'IAGOFALQUE': 45.0, 'BALOTELLI': 0, 'PROTO': 5.0}\n"
     ]
    }
   ],
   "source": [
    "LIKELY_FORMATIONS=\"likely-formations.html\"\n",
    "ME=\"me\"\n",
    "THRESHOLD=35\n",
    "bought=pd.read_csv(\"availability-of-players.csv\")\n",
    "import re\n",
    "def download_html():\n",
    "\ttry:\n",
    "\t\thtml=urllib.request.urlopen (\"https://www.fantacalcio.it/probabili-formazioni-serie-a\").read()\n",
    "\t\tprint(\"Server Online\")\n",
    "\t\twith open(LIKELY_FORMATIONS,\"w\") as formations_file:\n",
    "\t\t\n",
    "\t\t\tformations_file.write(str(html))\n",
    "\texcept urllib.error.HTTPError as e:\n",
    "\t\tprint(\"Server Offline\")\n",
    "\t\t#do stuff here\n",
    "\texcept urllib.error.URLError as e:\n",
    "\t\tprint(\"Server Offline\")\n",
    "        \n",
    "def retrieve_players_html():\n",
    "\twith open(LIKELY_FORMATIONS,\"r\") as formations_file:\n",
    "\t\treturn formations_file.read()\n",
    "\n",
    "def probabilityOFEnteringLate(player_name,parsed_html):\n",
    "    for a in parsed_html.find_all('a'):\n",
    "        if player_name in a.contents:\n",
    "            try:\n",
    "                parent=a.parent.parent\n",
    "                \n",
    "                parent=parent.contents[0]\n",
    "                indexOnString=str(parent).find(\"I.S.\")\n",
    "                cont=str(parent)[indexOnString+4:indexOnString+8]\n",
    "                c2=re.findall(r\"[0-9]+\",cont)\n",
    "                return float(c2[0])\n",
    "                print(c2)\n",
    "                content=parent.contents[1]\n",
    "\n",
    "                content=content.strip(\"I.S. \")\n",
    "                content=content.strip(\"%\")\n",
    "                content=content.strip(\" \")\n",
    "                percentage=content\n",
    "                return float(percentage)\n",
    "            except AttributeError:\n",
    "                return 0\n",
    "def probability_of_being_in_first_team(player_name,parsed_html):\n",
    "    for a in parsed_html.find_all('a'):\n",
    "        if player_name in a.contents:\n",
    "            try:\n",
    "                parent=a.parent.parent\n",
    "                parent=parent.contents[1]\n",
    "                parent=parent.contents[0]\n",
    "                parent=parent.contents[0] #90%\n",
    "\n",
    "                percentage=parent.contents[0]\n",
    "                return (float(percentage.strip(\"%\")))\n",
    "            except AttributeError:\n",
    "                return probabilityOFEnteringLate(player_name,parsed_html)\n",
    "    return 0\n",
    "\n",
    "\n",
    "def first_team(bought):\n",
    "    html=str(retrieve_players_html())\n",
    "    parsed_html = BeautifulSoup(html, 'html.parser')\n",
    "    all={}\n",
    "    for idx,player in bought.iterrows():\n",
    "        if player[\"Owner\"]==ME:\n",
    "            probability=probability_of_being_in_first_team(player[\"OriginalName\"],parsed_html)\n",
    "            #print(\"{} {}\".format(player[\"OriginalName\"],probability) )\n",
    "            all[player[\"Name\"]]=probability\n",
    "    return all\n",
    "probabilities=first_team(bought)\n",
    "print(probabilities)"
   ]
  },
  {
   "cell_type": "code",
   "execution_count": 4,
   "metadata": {},
   "outputs": [
    {
     "name": "stdout",
     "output_type": "stream",
     "text": [
      "Server Offline\n"
     ]
    }
   ],
   "source": [
    "download_html()"
   ]
  },
  {
   "cell_type": "code",
   "execution_count": 5,
   "metadata": {
    "collapsed": true
   },
   "outputs": [],
   "source": [
    "from amplpy import AMPL,Environment\n",
    "ampl = AMPL(Environment('/home/asino/Downloads/ampl_linux-intel64/'))\n",
    "ampl.setOption(\"solver\",\"/home/asino/Downloads/ampl_linux-intel64/cplex\")\n",
    "ampl.setOption(\"absmipgap\",1)\n",
    "\n"
   ]
  },
  {
   "cell_type": "code",
   "execution_count": 6,
   "metadata": {},
   "outputs": [
    {
     "name": "stdout",
     "output_type": "stream",
     "text": [
      "{'CRISCITO': 0, 'STRAKOSHA': 0, 'ZIELINSKI': 0, 'KURTIC': 0, 'ZAPATAD': 0, 'IZZO': 0, 'NKOULOU': 1, 'KOULIBALY': 1, 'POLITANO': 0, 'KESSIE': 1, 'BONIFAZI': 0, 'MURRU': 0, 'RADU': 0, 'QUAGLIARELLA': 0, 'VERETOUT': 0, 'GOMEZA': 0, 'BONUCCI': 0, 'BERISHAE': 0, 'FLORENZI': 0, 'MARTINEZL': 0, 'CHIELLINI': 1, 'MILENKOVIC': 0, 'SUSO': 0, 'MANDRAGORA': 0, 'NANDEZ': 0, 'IAGOFALQUE': 0, 'BALOTELLI': 1, 'PROTO': 1}\n"
     ]
    }
   ],
   "source": [
    "def fillDictOfBrokenPlayers():\n",
    "    bought=pd.read_csv(\"availability-of-players.csv\")\n",
    "    dictOfMyPlayers={}\n",
    "    dictOfBrokenPlayers={}\n",
    "    for idx,player in bought.iterrows():\n",
    "        if player[\"Owner\"]==ME:\n",
    "            if player[\"CanPlay\"]==0:\n",
    "                dictOfBrokenPlayers[player[\"Name\"]]=1\n",
    "            else:\n",
    "                dictOfBrokenPlayers[player[\"Name\"]]=0\n",
    "            if probabilities[player[\"Name\"]]<THRESHOLD:\n",
    "                dictOfBrokenPlayers[player[\"Name\"]]=1\n",
    "    return dictOfBrokenPlayers\n",
    "\n",
    "dictOfBrokenPlayers=fillDictOfBrokenPlayers()\n",
    "print(dictOfBrokenPlayers)   "
   ]
  },
  {
   "cell_type": "code",
   "execution_count": 7,
   "metadata": {},
   "outputs": [
    {
     "name": "stdout",
     "output_type": "stream",
     "text": [
      "Warning:\n",
      "\t07-prepare-selection.mod\n",
      "\tline 33 offset 991\n",
      "\tCaution: 0-dimensional slice\n"
     ]
    }
   ],
   "source": [
    "ampl.read(\"07-prepare-selection.mod\")\n",
    "ampl.readData(\"operations-mantra-online.dat\")\n",
    "setOfPlayers=ampl.getSet(\"Players\")\n",
    "#setOfPlayers.setValues([\"CIAO\"])"
   ]
  },
  {
   "cell_type": "code",
   "execution_count": 8,
   "metadata": {
    "collapsed": true,
    "scrolled": true
   },
   "outputs": [],
   "source": [
    "def analyseSolution():\n",
    "    putPlayerInSlot=ampl.getVariable(\"putPlayerInSlot\")\n",
    "    cost=ampl.getParameter(\"cost\")\n",
    "    pfs=ampl.getParameter(\"performance\")\n",
    "    moduleChosen=ampl.getVariable(\"bidderChoosesModule\")\n",
    "    globalPerf=ampl.getVariable(\"minPerf\").value()\n",
    "    \n",
    "    roles=ampl.getSet(\"CompatibilityPlayerRole\").getValues().toDict()\n",
    "    slots=ampl.getSet(\"CompatibilitySlotRole\").getValues().toDict()\n",
    "    solution=putPlayerInSlot.getValues().toDict()\n",
    "    costs=cost.getValues().toDict()\n",
    "    pfs=pfs.getValues().toDict()\n",
    "    modules=moduleChosen.getValues().toDict()\n",
    "    moduleUsed=\"AAA\"\n",
    "    \n",
    "\n",
    "    for moduleName,taken in modules.items():\n",
    "        if taken>0.5:\n",
    "            #print(\"Module: {}\\n\\n\".format(moduleName))\n",
    "            moduleUsed=moduleName\n",
    "    myPls={}\n",
    "    for key,val in solution.items():\n",
    "\n",
    "        if key[0]==moduleUsed:\n",
    "            if val>0.5:\n",
    "                myPls[key[2]]=key[1]\n",
    "                #print(key,val)\n",
    "    rolesA={}\n",
    "\n",
    "    #To show the roles of each player\n",
    "    for key,val in roles.items():\n",
    "        if key[0] not in rolesA.keys():\n",
    "            rolesA[key[0]]=[]\n",
    "        rolesA[key[0]].append(key[1])\n",
    "\n",
    "\n",
    "    mappingSlotNumberToPossibleRoles={}\n",
    "    for key,val in slots.items():\n",
    "        if key[0]==moduleUsed:\n",
    "\n",
    "            slotNr=key[1]\n",
    "            role=key[2]\n",
    "            if slotNr not in mappingSlotNumberToPossibleRoles.keys():\n",
    "                mappingSlotNumberToPossibleRoles[slotNr]=[]\n",
    "            mappingSlotNumberToPossibleRoles[slotNr].append(role)\n",
    "\n",
    "    emptySlotsInField=0\n",
    "    emptySlotsOutside=0\n",
    "    message=\"\"\n",
    "    texts=[]\n",
    "    for slotNr,possibleRoles in mappingSlotNumberToPossibleRoles.items():\n",
    "        if slotNr<=11:\n",
    "            privilege=\"INS\"\n",
    "        else:\n",
    "            privilege=\"OUT\"\n",
    "        try:\n",
    "            message+=(\"{} {} plays  in slot {}  \\n\".format(privilege, myPls[slotNr], possibleRoles))\n",
    "            texts.append(\"{} {} plays  in slot {}\\n\".format(privilege,possibleRoles,myPls[slotNr]))\n",
    "        except KeyError:\n",
    "            if privilege==\"TOP\":\n",
    "                emptySlotsInField+=1\n",
    "            else:\n",
    "                emptySlotsOutside+=1\n",
    "    texts=sorted(texts)\n",
    "    message=\"\".join(texts)\n",
    "    return globalPerf,moduleUsed,message,emptySlotsInField,emptySlotsOutside\n",
    "_,_,msg,_,_=analyseSolution()\n"
   ]
  },
  {
   "cell_type": "code",
   "execution_count": 9,
   "metadata": {},
   "outputs": [
    {
     "name": "stdout",
     "output_type": "stream",
     "text": [
      "CPLEX 12.8.0.0: optimal integer solution; objective 84.37230554\n",
      "1684 MIP simplex iterations\n",
      "0 branch-and-bound nodes\n",
      "0\n",
      "m4231\n",
      "INS ['A', 'Pc'] plays  in slot ZAPATAD\n",
      "INS ['Dc'] plays  in slot CRISCITO\n",
      "INS ['Dc'] plays  in slot IZZO\n",
      "INS ['Dd'] plays  in slot MILENKOVIC\n",
      "INS ['Ds'] plays  in slot MURRU\n",
      "INS ['M', 'C'] plays  in slot ZIELINSKI\n",
      "INS ['M'] plays  in slot MANDRAGORA\n",
      "INS ['Por'] plays  in slot STRAKOSHA\n",
      "INS ['T'] plays  in slot GOMEZA\n",
      "INS ['W', 'A'] plays  in slot SUSO\n",
      "INS ['W'] plays  in slot POLITANO\n",
      "OUT ['A', 'Pc'] plays  in slot QUAGLIARELLA\n",
      "OUT ['Dc'] plays  in slot BONIFAZI\n",
      "OUT ['Dc'] plays  in slot BONUCCI\n",
      "OUT ['Dd'] plays  in slot FLORENZI\n",
      "OUT ['Ds'] plays  in slot RADU\n",
      "OUT ['M', 'C'] plays  in slot VERETOUT\n",
      "OUT ['M'] plays  in slot NANDEZ\n",
      "OUT ['Por'] plays  in slot BERISHAE\n",
      "OUT ['T'] plays  in slot KURTIC\n",
      "OUT ['W', 'A'] plays  in slot IAGOFALQUE\n",
      "\n"
     ]
    }
   ],
   "source": [
    "def suggestTeam(dictOfBrokenPlayers):\n",
    "    plas=ampl.getSet(\"Players\").getValues()\n",
    "    valuesForBrokenPlayersAmpl={}\n",
    "    for name in plas:\n",
    "        name=name[0]\n",
    "        #print(name)\n",
    "        valuesForBrokenPlayersAmpl[name]=0\n",
    "    for player,value in dictOfBrokenPlayers.items():\n",
    "        valuesForBrokenPlayersAmpl[player]=value\n",
    "    ampl.getParameter(\"broken\").setValues(valuesForBrokenPlayersAmpl)\n",
    "        \n",
    "        \n",
    "        \n",
    "    \n",
    "    ampl.solve()\n",
    "suggestTeam(dictOfBrokenPlayers)\n",
    "_,mod,msg,inf,_=analyseSolution()\n",
    "print(inf)\n",
    "print(mod)\n",
    "print(msg)"
   ]
  },
  {
   "cell_type": "code",
   "execution_count": 10,
   "metadata": {},
   "outputs": [
    {
     "data": {
      "text/plain": [
       "'\\npls=dictOfBrokenPlayers.keys()\\ndictOfEffects={}\\nsolidPlayers=[\"STRAKOSHA\",\"BERISHAE\",\"IZZO\"]\\nfor player in pls:\\n    for p2 in pls:\\n        if player >p2:\\n            if player not in solidPlayers and p2 not in solidPlayers:\\n                broks=fillDictOfBrokenPlayers()\\n                broks[player]=1\\n                broks[p2]=1\\n                suggestTeam(broks)\\n                dictOfEffects[(player,p2)]=(analyseSolution())\\n#suggestTeam({},{})\\n'"
      ]
     },
     "execution_count": 10,
     "metadata": {},
     "output_type": "execute_result"
    }
   ],
   "source": [
    "'''\n",
    "pls=dictOfBrokenPlayers.keys()\n",
    "dictOfEffects={}\n",
    "solidPlayers=[\"STRAKOSHA\",\"BERISHAE\",\"IZZO\"]\n",
    "for player in pls:\n",
    "    for p2 in pls:\n",
    "        if player >p2:\n",
    "            if player not in solidPlayers and p2 not in solidPlayers:\n",
    "                broks=fillDictOfBrokenPlayers()\n",
    "                broks[player]=1\n",
    "                broks[p2]=1\n",
    "                suggestTeam(broks)\n",
    "                dictOfEffects[(player,p2)]=(analyseSolution())\n",
    "#suggestTeam({},{})\n",
    "'''"
   ]
  },
  {
   "cell_type": "code",
   "execution_count": 11,
   "metadata": {},
   "outputs": [
    {
     "data": {
      "text/plain": [
       "'\\ncouples=dictOfEffects.keys()\\ncp=sorted(couples,key=lambda k:dictOfEffects[k][0])\\nfor i in range(10):\\n    print(cp[i],dictOfEffects[cp[i]][0])\\n    #print(dictOfEffects[cp[i]][2])\\n    #break\\n'"
      ]
     },
     "execution_count": 11,
     "metadata": {},
     "output_type": "execute_result"
    }
   ],
   "source": [
    "'''\n",
    "couples=dictOfEffects.keys()\n",
    "cp=sorted(couples,key=lambda k:dictOfEffects[k][0])\n",
    "for i in range(10):\n",
    "    print(cp[i],dictOfEffects[cp[i]][0])\n",
    "    #print(dictOfEffects[cp[i]][2])\n",
    "    #break\n",
    "'''"
   ]
  }
 ],
 "metadata": {
  "kernelspec": {
   "display_name": "Python 3",
   "language": "python",
   "name": "python3"
  },
  "language_info": {
   "codemirror_mode": {
    "name": "ipython",
    "version": 3
   },
   "file_extension": ".py",
   "mimetype": "text/x-python",
   "name": "python",
   "nbconvert_exporter": "python",
   "pygments_lexer": "ipython3",
   "version": "3.6.9"
  }
 },
 "nbformat": 4,
 "nbformat_minor": 2
}
