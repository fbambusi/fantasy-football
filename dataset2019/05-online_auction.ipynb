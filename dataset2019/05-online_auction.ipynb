{
 "cells": [
  {
   "cell_type": "code",
   "execution_count": 1,
   "metadata": {
    "collapsed": true
   },
   "outputs": [],
   "source": [
    "import pandas as pd"
   ]
  },
  {
   "cell_type": "code",
   "execution_count": 2,
   "metadata": {
    "collapsed": true
   },
   "outputs": [],
   "source": [
    "from amplpy import AMPL,Environment\n",
    "ampl = AMPL(Environment('/home/asino/Downloads/ampl_linux-intel64/'))\n",
    "ampl.setOption(\"solver\",\"/home/asino/Downloads/ampl_linux-intel64/cplex\")"
   ]
  },
  {
   "cell_type": "code",
   "execution_count": 3,
   "metadata": {
    "collapsed": true
   },
   "outputs": [],
   "source": [
    "ME=\"me\""
   ]
  },
  {
   "cell_type": "code",
   "execution_count": 4,
   "metadata": {},
   "outputs": [
    {
     "name": "stdout",
     "output_type": "stream",
     "text": [
      "            Price\n",
      "Owner            \n",
      "bryan         419\n",
      "fedeg         102\n",
      "fedemiglia    380\n",
      "gatti         433\n",
      "marco         393\n",
      "me            404\n",
      "na              7\n",
      "            Name  Price\n",
      "Owner                  \n",
      "bryan         14     14\n",
      "fedeg          2      2\n",
      "fedemiglia    13     13\n",
      "gatti         17     17\n",
      "marco         21     21\n",
      "me            19     19\n",
      "na             7      7\n"
     ]
    }
   ],
   "source": [
    "bought=pd.read_csv(\"auction.csv\")\n",
    "dictOfMyPlayers={}\n",
    "dictOfPlayersBelongingToOtherBidders={}\n",
    "for idx,player in bought.iterrows():\n",
    "    if player[\"Owner\"]==ME:\n",
    "        dictOfMyPlayers[player[\"Name\"]]=player[\"Price\"]\n",
    "    else:\n",
    "        dictOfPlayersBelongingToOtherBidders[player[\"Name\"]]=player[\"Price\"]\n",
    "print(bought.groupby(\"Owner\").sum())\n",
    "print(bought.groupby(\"Owner\").count())"
   ]
  },
  {
   "cell_type": "code",
   "execution_count": 5,
   "metadata": {},
   "outputs": [
    {
     "name": "stdout",
     "output_type": "stream",
     "text": [
      "Warning:\n",
      "\tonline-auction.mod\n",
      "\tline 39 offset 1150\n",
      "\tCaution: 0-dimensional slice\n"
     ]
    }
   ],
   "source": [
    "ampl.read(\"online-auction.mod\")\n",
    "ampl.readData(\"fantasy-auction-mantra-online.dat\")"
   ]
  },
  {
   "cell_type": "code",
   "execution_count": 6,
   "metadata": {
    "collapsed": true
   },
   "outputs": [],
   "source": [
    "def suggestTeam(dictOfMyPlayers,dictOfPlayersBelongingToOtherBidders):\n",
    "    plas=ampl.getSet(\"Players\").getValues()\n",
    "    valuesForOtherPlayersAmpl={}\n",
    "    valuesForMyPlayersAmpl={}\n",
    "    for name in plas:\n",
    "        name=name[0]\n",
    "        #print(name)\n",
    "        valuesForMyPlayersAmpl[name]=0\n",
    "        valuesForOtherPlayersAmpl[name]=0\n",
    "    budget=500\n",
    "    for player,cost in dictOfPlayersBelongingToOtherBidders.items():\n",
    "        valuesForOtherPlayersAmpl[player]=1\n",
    "    for player,cost in dictOfMyPlayers.items():\n",
    "        budget-=cost\n",
    "        valuesForMyPlayersAmpl[player]=1\n",
    "        \n",
    "    if valuesForOtherPlayersAmpl:\n",
    "        ampl.getParameter(\"alreadyBoughtByOther\").setValues(valuesForOtherPlayersAmpl)\n",
    "    if valuesForMyPlayersAmpl:\n",
    "        ampl.getParameter(\"alreadyBoughtByMe\").setValues(valuesForMyPlayersAmpl)\n",
    "        \n",
    "        \n",
    "    \n",
    "    ampl.getParameter(\"budget\").set(budget)\n",
    "    ampl.solve()\n"
   ]
  },
  {
   "cell_type": "code",
   "execution_count": 7,
   "metadata": {},
   "outputs": [
    {
     "name": "stdout",
     "output_type": "stream",
     "text": [
      "CPLEX 12.8.0.0: optimal integer solution within mipgap or absmipgap; objective 89.54005882\n",
      "29168 MIP simplex iterations\n",
      "95 branch-and-bound nodes\n",
      "absmipgap = 0.00712919, relmipgap = 7.96201e-05\n"
     ]
    }
   ],
   "source": [
    "suggestTeam(dictOfMyPlayers,dictOfPlayersBelongingToOtherBidders)"
   ]
  },
  {
   "cell_type": "code",
   "execution_count": 8,
   "metadata": {
    "scrolled": true
   },
   "outputs": [
    {
     "name": "stdout",
     "output_type": "stream",
     "text": [
      "Module: m442\n",
      "\n",
      "\n",
      "{'ZAPATAD': ['Pc'], 'QUAGLIARELLA': ['Pc'], 'GOMEZA': ['T', 'A'], 'IZZO': ['Dd', 'Dc'], 'ZIELINSKI': ['C', 'T'], 'POLITANO': ['W', 'A'], 'NKOULOU': ['Dc'], 'KESSIE': ['C'], 'KOULIBALY': ['Dc'], 'CRISCITO': ['Ds', 'Dc', 'E'], 'LAZOVIC': ['E', 'W'], 'VERETOUT': ['C'], 'KURTIC': ['C', 'T'], 'SIRIGU': ['Por'], 'MURRU': ['Ds', 'E'], 'FLORENZI': ['Dd', 'E'], 'BONUCCI': ['Dc'], 'BONIFAZI': ['Dc'], 'PISACANE': ['Dd', 'Ds', 'Dc'], 'CASTILLEJO': ['W', 'A'], 'LAMANTIA': ['Pc'], 'PAZZINI': ['Pc'], 'OLSEN': ['Por'], 'SANDRO': ['M', 'C'], 'MOROSINI': ['T', 'A'], 'CASTROVILLI': ['C', 'T'], 'AMRABAT': ['E', 'M'], 'RRAHMANI': ['Dd', 'Ds', 'Dc']}\n"
     ]
    }
   ],
   "source": [
    "buy=ampl.getVariable(\"putPlayerInSlot\")\n",
    "cost=ampl.getParameter(\"cost\")\n",
    "pfs=ampl.getParameter(\"performance\")\n",
    "moduleChosen=ampl.getVariable(\"bidderChoosesModule\")\n",
    "\n",
    "roles=ampl.getSet(\"CompatibilityPlayerRole\").getValues().toDict()\n",
    "\n",
    "solution=buy.getValues().toDict()\n",
    "costs=cost.getValues().toDict()\n",
    "pfs=pfs.getValues().toDict()\n",
    "modules=moduleChosen.getValues().toDict()\n",
    "moduleUsed=\"AAA\"\n",
    "for moduleName,taken in modules.items():\n",
    "    if taken>0.5:\n",
    "        print(\"Module: {}\\n\\n\".format(moduleName))\n",
    "        moduleUsed=moduleName\n",
    "\n",
    "myPls=[]\n",
    "for key,val in solution.items():\n",
    "    if key[0]==moduleName:\n",
    "        if val>0.5:\n",
    "            myPls.append(key[1])\n",
    "rolesA={}\n",
    "\n",
    "for key,val in roles.items():\n",
    "    if key[0] in myPls:\n",
    "        if key[0] not in rolesA.keys():\n",
    "            rolesA[key[0]]=[]\n",
    "        rolesA[key[0]].append(key[1])\n",
    "print(rolesA)"
   ]
  },
  {
   "cell_type": "code",
   "execution_count": 9,
   "metadata": {},
   "outputs": [
    {
     "name": "stdout",
     "output_type": "stream",
     "text": [
      "AMRABAT                 1.0   ['E', 'M']  \n",
      "BONIFAZI                 17.358906357286802   ['Dc']  \n",
      "BONUCCI                 22.9064237043878   ['Dc']  \n",
      "CASTILLEJO                 10.3309568660778   ['W', 'A']  \n",
      "CASTROVILLI                 1.0   ['C', 'T']  \n",
      "CRISCITO                 33.1118860902676   ['Ds', 'Dc', 'E']  \n",
      "FLORENZI                 23.0968118736965   ['Dd', 'E']  \n",
      "GOMEZA                 50.8649843671469   ['T', 'A']  \n",
      "IZZO                 41.974783627056   ['Dd', 'Dc']  \n",
      "KESSIE                 36.9130843671568   ['C']  \n",
      "KOULIBALY                 35.52456375306   ['Dc']  \n",
      "KURTIC                 29.501075982687002   ['C', 'T']  \n",
      "LAMANTIA                 2.55969418097252   ['Pc']  \n",
      "LAZOVIC                 31.4903040964996   ['E', 'W']  \n",
      "MOROSINI                 1.0   ['T', 'A']  \n",
      "MURRU                 28.2077494532446   ['Ds', 'E']  \n",
      "NKOULOU                 37.59585573295389   ['Dc']  \n",
      "OLSEN                 2.11472259401068   ['Por']  \n",
      "PAZZINI                 2.55969418097252   ['Pc']  \n",
      "PISACANE                 13.1276934221311   ['Dd', 'Ds', 'Dc']  \n",
      "POLITANO                 39.9592950760975   ['W', 'A']  \n",
      "QUAGLIARELLA                 67.9660512923491   ['Pc']  \n",
      "RRAHMANI                 1.0   ['Dd', 'Ds', 'Dc']  \n",
      "SANDRO                 1.0   ['M', 'C']  \n",
      "SIRIGU                 28.378442294693798   ['Por']  \n",
      "VERETOUT                 30.9486825803625   ['C']  \n",
      "ZAPATAD                 72.3340022276688   ['Pc']  \n",
      "ZIELINSKI                 41.2591867148264   ['C', 'T']  \n"
     ]
    }
   ],
   "source": [
    "for player in myPls:\n",
    "    message=\"{}                 {}   {}  \".format(player,costs[player],rolesA[player])\n",
    "    print(message)"
   ]
  }
 ],
 "metadata": {
  "kernelspec": {
   "display_name": "Python 3",
   "language": "python",
   "name": "python3"
  },
  "language_info": {
   "codemirror_mode": {
    "name": "ipython",
    "version": 3
   },
   "file_extension": ".py",
   "mimetype": "text/x-python",
   "name": "python",
   "nbconvert_exporter": "python",
   "pygments_lexer": "ipython3",
   "version": "3.6.9"
  }
 },
 "nbformat": 4,
 "nbformat_minor": 2
}
