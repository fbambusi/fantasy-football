{
 "cells": [
  {
   "cell_type": "code",
   "execution_count": 1,
   "metadata": {
    "collapsed": true
   },
   "outputs": [],
   "source": [
    "import pandas as pd"
   ]
  },
  {
   "cell_type": "code",
   "execution_count": 2,
   "metadata": {
    "collapsed": true
   },
   "outputs": [],
   "source": [
    "from amplpy import AMPL,Environment\n",
    "ampl = AMPL(Environment('/home/asino/Downloads/ampl_linux-intel64/'))\n",
    "ampl.setOption(\"solver\",\"/home/asino/Downloads/ampl_linux-intel64/cplex\")"
   ]
  },
  {
   "cell_type": "code",
   "execution_count": 3,
   "metadata": {},
   "outputs": [],
   "source": [
    "bought=pd.read_csv(\"auction.csv\")\n",
    "dictOfMyPlayers={}\n",
    "dictOfPlayersBelongingToOtherBidders={}\n",
    "for idx,player in bought.iterrows():\n",
    "    if player[\"Owner\"]==\"me\":\n",
    "        dictOfMyPlayers[player[\"Name\"]]=player[\"Price\"]\n",
    "    else:\n",
    "        dictOfPlayersBelongingToOtherBidders[player[\"Name\"]]=player[\"Price\"]\n"
   ]
  },
  {
   "cell_type": "code",
   "execution_count": 4,
   "metadata": {},
   "outputs": [
    {
     "name": "stdout",
     "output_type": "stream",
     "text": [
      "Warning:\n",
      "\tonline-auction.mod\n",
      "\tline 39 offset 1150\n",
      "\tCaution: 0-dimensional slice\n"
     ]
    }
   ],
   "source": [
    "ampl.read(\"online-auction.mod\")\n",
    "ampl.readData(\"fantasy-auction-mantra-online.dat\")"
   ]
  },
  {
   "cell_type": "code",
   "execution_count": null,
   "metadata": {
    "collapsed": true
   },
   "outputs": [],
   "source": [
    "def suggestTeam(dictOfMyPlayers,dictOfPlayersBelongingToOtherBidders):\n",
    "    plas=ampl.getSet(\"Players\").getValues()\n",
    "    valuesForOtherPlayersAmpl={}\n",
    "    valuesForMyPlayersAmpl={}\n",
    "    for name in plas:\n",
    "        name=name[0]\n",
    "        #print(name)\n",
    "        valuesForMyPlayersAmpl[name]=0\n",
    "        valuesForOtherPlayersAmpl[name]=0\n",
    "    budget=500\n",
    "    for player,cost in dictOfPlayersBelongingToOtherBidders.items():\n",
    "        valuesForOtherPlayersAmpl[player]=1\n",
    "    for player,cost in dictOfMyPlayers.items():\n",
    "        budget-=cost\n",
    "        valuesForMyPlayersAmpl[player]=1\n",
    "        \n",
    "    if valuesForOtherPlayersAmpl:\n",
    "        ampl.getParameter(\"alreadyBoughtByOther\").setValues(valuesForOtherPlayersAmpl)\n",
    "    if valuesForMyPlayersAmpl:\n",
    "        ampl.getParameter(\"alreadyBoughtByMe\").setValues(valuesForMyPlayersAmpl)\n",
    "        \n",
    "        \n",
    "    \n",
    "    ampl.getParameter(\"budget\").set(budget)\n",
    "    ampl.solve()\n"
   ]
  },
  {
   "cell_type": "code",
   "execution_count": null,
   "metadata": {},
   "outputs": [],
   "source": [
    "suggestTeam(dictOfMyPlayers,dictOfPlayersBelongingToOtherBidders)"
   ]
  },
  {
   "cell_type": "code",
   "execution_count": null,
   "metadata": {},
   "outputs": [],
   "source": [
    "buy=ampl.getVariable(\"putPlayerInSlot\")\n",
    "cost=ampl.getParameter(\"cost\")\n",
    "moduleChosen=ampl.getVariable(\"bidderChoosesModule\")\n",
    "solution=buy.getValues().toDict()\n",
    "costs=cost.getValues().toDict()\n",
    "modules=moduleChosen.getValues().toDict()\n",
    "moduleUsed=\"AAA\"\n",
    "for moduleName,taken in modules.items():\n",
    "    if taken>0.5:\n",
    "        print(\"Module: {}\\n\\n\".format(moduleName))\n",
    "        moduleUsed=moduleName\n",
    "\n",
    "myPls=[]\n",
    "for key,val in solution.items():\n",
    "    if key[0]==moduleName:\n",
    "        if val>0.5:\n",
    "            myPls.append(key[1])\n",
    "        "
   ]
  },
  {
   "cell_type": "code",
   "execution_count": null,
   "metadata": {},
   "outputs": [],
   "source": [
    "for player in myPls:\n",
    "    message=\"{} {}\".format(player,costs[player])\n",
    "    print(message)"
   ]
  }
 ],
 "metadata": {
  "kernelspec": {
   "display_name": "Python 3",
   "language": "python",
   "name": "python3"
  },
  "language_info": {
   "codemirror_mode": {
    "name": "ipython",
    "version": 3
   },
   "file_extension": ".py",
   "mimetype": "text/x-python",
   "name": "python",
   "nbconvert_exporter": "python",
   "pygments_lexer": "ipython3",
   "version": "3.6.9"
  }
 },
 "nbformat": 4,
 "nbformat_minor": 2
}
