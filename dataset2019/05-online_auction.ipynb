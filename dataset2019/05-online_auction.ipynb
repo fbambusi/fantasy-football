{
 "cells": [
  {
   "cell_type": "code",
   "execution_count": 1,
   "metadata": {
    "collapsed": true
   },
   "outputs": [],
   "source": [
    "import pandas as pd"
   ]
  },
  {
   "cell_type": "code",
   "execution_count": 2,
   "metadata": {
    "collapsed": true
   },
   "outputs": [],
   "source": [
    "from amplpy import AMPL,Environment\n",
    "ampl = AMPL(Environment('/home/asino/Downloads/ampl_linux-intel64/'))\n",
    "ampl.setOption(\"solver\",\"/home/asino/Downloads/ampl_linux-intel64/cplex\")"
   ]
  },
  {
   "cell_type": "code",
   "execution_count": 3,
   "metadata": {},
   "outputs": [
    {
     "name": "stdout",
     "output_type": "stream",
     "text": [
      "            Price\n",
      "Owner            \n",
      "bryan          45\n",
      "fedemiglia    178\n",
      "gatti          32\n",
      "marco          72\n",
      "me            212\n",
      "na              4\n"
     ]
    }
   ],
   "source": [
    "bought=pd.read_csv(\"auction.csv\")\n",
    "dictOfMyPlayers={}\n",
    "dictOfPlayersBelongingToOtherBidders={}\n",
    "for idx,player in bought.iterrows():\n",
    "    if player[\"Owner\"]==\"me\":\n",
    "        dictOfMyPlayers[player[\"Name\"]]=player[\"Price\"]\n",
    "    else:\n",
    "        dictOfPlayersBelongingToOtherBidders[player[\"Name\"]]=player[\"Price\"]\n",
    "print(bought.groupby(\"Owner\").sum())"
   ]
  },
  {
   "cell_type": "code",
   "execution_count": 4,
   "metadata": {},
   "outputs": [
    {
     "name": "stdout",
     "output_type": "stream",
     "text": [
      "Warning:\n",
      "\tonline-auction.mod\n",
      "\tline 39 offset 1150\n",
      "\tCaution: 0-dimensional slice\n"
     ]
    }
   ],
   "source": [
    "ampl.read(\"online-auction.mod\")\n",
    "ampl.readData(\"fantasy-auction-mantra-online.dat\")"
   ]
  },
  {
   "cell_type": "code",
   "execution_count": 5,
   "metadata": {
    "collapsed": true
   },
   "outputs": [],
   "source": [
    "def suggestTeam(dictOfMyPlayers,dictOfPlayersBelongingToOtherBidders):\n",
    "    plas=ampl.getSet(\"Players\").getValues()\n",
    "    valuesForOtherPlayersAmpl={}\n",
    "    valuesForMyPlayersAmpl={}\n",
    "    for name in plas:\n",
    "        name=name[0]\n",
    "        #print(name)\n",
    "        valuesForMyPlayersAmpl[name]=0\n",
    "        valuesForOtherPlayersAmpl[name]=0\n",
    "    budget=500\n",
    "    for player,cost in dictOfPlayersBelongingToOtherBidders.items():\n",
    "        valuesForOtherPlayersAmpl[player]=1\n",
    "    for player,cost in dictOfMyPlayers.items():\n",
    "        budget-=cost\n",
    "        valuesForMyPlayersAmpl[player]=1\n",
    "        \n",
    "    if valuesForOtherPlayersAmpl:\n",
    "        ampl.getParameter(\"alreadyBoughtByOther\").setValues(valuesForOtherPlayersAmpl)\n",
    "    if valuesForMyPlayersAmpl:\n",
    "        ampl.getParameter(\"alreadyBoughtByMe\").setValues(valuesForMyPlayersAmpl)\n",
    "        \n",
    "        \n",
    "    \n",
    "    ampl.getParameter(\"budget\").set(budget)\n",
    "    ampl.solve()\n"
   ]
  },
  {
   "cell_type": "code",
   "execution_count": 6,
   "metadata": {},
   "outputs": [
    {
     "name": "stdout",
     "output_type": "stream",
     "text": [
      "CPLEX 12.8.0.0: optimal integer solution within mipgap or absmipgap; objective 86.36256636\n",
      "31133 MIP simplex iterations\n",
      "464 branch-and-bound nodes\n",
      "absmipgap = 0.00842667, relmipgap = 9.75732e-05\n"
     ]
    }
   ],
   "source": [
    "suggestTeam(dictOfMyPlayers,dictOfPlayersBelongingToOtherBidders)"
   ]
  },
  {
   "cell_type": "code",
   "execution_count": 7,
   "metadata": {},
   "outputs": [
    {
     "name": "stdout",
     "output_type": "stream",
     "text": [
      "Module: m442\n",
      "\n",
      "\n"
     ]
    }
   ],
   "source": [
    "buy=ampl.getVariable(\"putPlayerInSlot\")\n",
    "cost=ampl.getParameter(\"cost\")\n",
    "moduleChosen=ampl.getVariable(\"bidderChoosesModule\")\n",
    "solution=buy.getValues().toDict()\n",
    "costs=cost.getValues().toDict()\n",
    "modules=moduleChosen.getValues().toDict()\n",
    "moduleUsed=\"AAA\"\n",
    "for moduleName,taken in modules.items():\n",
    "    if taken>0.5:\n",
    "        print(\"Module: {}\\n\\n\".format(moduleName))\n",
    "        moduleUsed=moduleName\n",
    "\n",
    "myPls=[]\n",
    "for key,val in solution.items():\n",
    "    if key[0]==moduleName:\n",
    "        if val>0.5:\n",
    "            myPls.append(key[1])\n",
    "        "
   ]
  },
  {
   "cell_type": "code",
   "execution_count": 8,
   "metadata": {},
   "outputs": [
    {
     "name": "stdout",
     "output_type": "stream",
     "text": [
      "ACERBI 39.66714771284779\n",
      "BERISHAE 1.0\n",
      "CASTROVILLI 1.0\n",
      "CHIESA 44.7682376284661\n",
      "CRISCITO 33.1118860902676\n",
      "CRISTIANORONALDO 99.1702745533213\n",
      "DALESSANDRO 1.89479143291257\n",
      "HATEBOER 36.355050077803504\n",
      "IZZO 41.974783627056\n",
      "KUCKA 1.7897496843283898\n",
      "KURTIC 29.501075982687002\n",
      "LAZARO 2.55969418097252\n",
      "LUKIC 1.0\n",
      "MANCOSU 1.0\n",
      "NKOULOU 37.59585573295389\n",
      "OLSEN 2.11472259401068\n",
      "PAZZINI 2.55969418097252\n",
      "ROSSETTINI 1.0\n",
      "SALAMON 1.0\n",
      "SAMIR 4.73420119932816\n",
      "SANDRO 1.0\n",
      "STRAKOSHA 21.508055426361103\n",
      "TOLJAN 1.0\n",
      "VAVRO 2.55969418097252\n",
      "VERDI 1.61249173359262\n",
      "ZAPATAD 72.3340022276688\n",
      "ZAPPACOSTA 2.55969418097252\n",
      "ZIELINSKI 41.2591867148264\n"
     ]
    }
   ],
   "source": [
    "for player in myPls:\n",
    "    message=\"{} {}\".format(player,costs[player])\n",
    "    print(message)"
   ]
  }
 ],
 "metadata": {
  "kernelspec": {
   "display_name": "Python 3",
   "language": "python",
   "name": "python3"
  },
  "language_info": {
   "codemirror_mode": {
    "name": "ipython",
    "version": 3
   },
   "file_extension": ".py",
   "mimetype": "text/x-python",
   "name": "python",
   "nbconvert_exporter": "python",
   "pygments_lexer": "ipython3",
   "version": "3.6.9"
  }
 },
 "nbformat": 4,
 "nbformat_minor": 2
}
