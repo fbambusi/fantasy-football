{
 "cells": [
  {
   "cell_type": "code",
   "execution_count": 1,
   "metadata": {
    "collapsed": true
   },
   "outputs": [],
   "source": [
    "import pandas as pd"
   ]
  },
  {
   "cell_type": "code",
   "execution_count": 2,
   "metadata": {
    "collapsed": true
   },
   "outputs": [],
   "source": [
    "from amplpy import AMPL,Environment\n",
    "ampl = AMPL(Environment('/home/asino/Downloads/ampl_linux-intel64/'))\n",
    "ampl.setOption(\"solver\",\"/home/asino/Downloads/ampl_linux-intel64/cplex\")"
   ]
  },
  {
   "cell_type": "code",
   "execution_count": 3,
   "metadata": {
    "collapsed": true
   },
   "outputs": [],
   "source": [
    "ME=\"me\""
   ]
  },
  {
   "cell_type": "code",
   "execution_count": 4,
   "metadata": {},
   "outputs": [
    {
     "name": "stdout",
     "output_type": "stream",
     "text": [
      "            Price  Unnamed: 3\n",
      "Owner                        \n",
      "bryan          29       500.0\n",
      "fedeg         350       500.0\n",
      "fedemiglia      4       500.0\n",
      "gatti           0         1.0\n",
      "marco          20       500.0\n",
      "me             11       500.0\n",
      "na            492       500.0\n",
      "            Name  Price  Unnamed: 3\n",
      "Owner                              \n",
      "bryan         27     27           0\n",
      "fedeg          3      3           0\n",
      "fedemiglia    24     24           0\n",
      "gatti         23     23           1\n",
      "marco         28     28           0\n",
      "me            28     28           0\n",
      "na             8      8           0\n"
     ]
    }
   ],
   "source": [
    "bought=pd.read_csv(\"auction.csv\")\n",
    "dictOfMyPlayers={}\n",
    "dictOfPlayersBelongingToOtherBidders={}\n",
    "for idx,player in bought.iterrows():\n",
    "    if player[\"Owner\"]==ME:\n",
    "        dictOfMyPlayers[player[\"Name\"]]=player[\"Price\"]\n",
    "    else:\n",
    "        dictOfPlayersBelongingToOtherBidders[player[\"Name\"]]=player[\"Price\"]\n",
    "print(500-bought.groupby(\"Owner\").sum())\n",
    "print(bought.groupby(\"Owner\").count())"
   ]
  },
  {
   "cell_type": "code",
   "execution_count": 5,
   "metadata": {},
   "outputs": [
    {
     "name": "stdout",
     "output_type": "stream",
     "text": [
      "Warning:\n",
      "\tonline-auction.mod\n",
      "\tline 39 offset 1150\n",
      "\tCaution: 0-dimensional slice\n"
     ]
    }
   ],
   "source": [
    "ampl.read(\"online-auction.mod\")\n",
    "ampl.readData(\"fantasy-auction-mantra-online.dat\")"
   ]
  },
  {
   "cell_type": "code",
   "execution_count": null,
   "metadata": {
    "collapsed": true
   },
   "outputs": [],
   "source": [
    "def suggestTeam(dictOfMyPlayers,dictOfPlayersBelongingToOtherBidders):\n",
    "    plas=ampl.getSet(\"Players\").getValues()\n",
    "    valuesForOtherPlayersAmpl={}\n",
    "    valuesForMyPlayersAmpl={}\n",
    "    for name in plas:\n",
    "        name=name[0]\n",
    "        #print(name)\n",
    "        valuesForMyPlayersAmpl[name]=0\n",
    "        valuesForOtherPlayersAmpl[name]=0\n",
    "    budget=500\n",
    "    for player,cost in dictOfPlayersBelongingToOtherBidders.items():\n",
    "        valuesForOtherPlayersAmpl[player]=1\n",
    "    for player,cost in dictOfMyPlayers.items():\n",
    "        budget-=cost\n",
    "        valuesForMyPlayersAmpl[player]=1\n",
    "        \n",
    "    if valuesForOtherPlayersAmpl:\n",
    "        ampl.getParameter(\"alreadyBoughtByOther\").setValues(valuesForOtherPlayersAmpl)\n",
    "    if valuesForMyPlayersAmpl:\n",
    "        ampl.getParameter(\"alreadyBoughtByMe\").setValues(valuesForMyPlayersAmpl)\n",
    "        \n",
    "        \n",
    "    \n",
    "    ampl.getParameter(\"budget\").set(budget)\n",
    "    ampl.solve()\n"
   ]
  },
  {
   "cell_type": "code",
   "execution_count": null,
   "metadata": {
    "collapsed": true
   },
   "outputs": [],
   "source": [
    "suggestTeam(dictOfMyPlayers,dictOfPlayersBelongingToOtherBidders)"
   ]
  },
  {
   "cell_type": "code",
   "execution_count": null,
   "metadata": {
    "collapsed": true,
    "scrolled": true
   },
   "outputs": [],
   "source": [
    "buy=ampl.getVariable(\"putPlayerInSlot\")\n",
    "cost=ampl.getParameter(\"cost\")\n",
    "pfs=ampl.getParameter(\"performance\")\n",
    "moduleChosen=ampl.getVariable(\"bidderChoosesModule\")\n",
    "\n",
    "roles=ampl.getSet(\"CompatibilityPlayerRole\").getValues().toDict()\n",
    "\n",
    "solution=buy.getValues().toDict()\n",
    "costs=cost.getValues().toDict()\n",
    "pfs=pfs.getValues().toDict()\n",
    "modules=moduleChosen.getValues().toDict()\n",
    "moduleUsed=\"AAA\"\n",
    "for moduleName,taken in modules.items():\n",
    "    if taken>0.5:\n",
    "        print(\"Module: {}\\n\\n\".format(moduleName))\n",
    "        moduleUsed=moduleName\n",
    "\n",
    "myPls=[]\n",
    "for key,val in solution.items():\n",
    "    if key[0]==moduleName:\n",
    "        if val>0.5:\n",
    "            myPls.append(key[1])\n",
    "rolesA={}\n",
    "\n",
    "for key,val in roles.items():\n",
    "    if key[0] in myPls:\n",
    "        if key[0] not in rolesA.keys():\n",
    "            rolesA[key[0]]=[]\n",
    "        rolesA[key[0]].append(key[1])\n",
    "print(rolesA)"
   ]
  },
  {
   "cell_type": "code",
   "execution_count": null,
   "metadata": {
    "collapsed": true,
    "scrolled": true
   },
   "outputs": [],
   "source": [
    "for player in myPls:\n",
    "    message=\"{}                 {}   {}  \".format(player,costs[player],rolesA[player])\n",
    "    print(message)"
   ]
  }
 ],
 "metadata": {
  "kernelspec": {
   "display_name": "Python 3",
   "language": "python",
   "name": "python3"
  },
  "language_info": {
   "codemirror_mode": {
    "name": "ipython",
    "version": 3
   },
   "file_extension": ".py",
   "mimetype": "text/x-python",
   "name": "python",
   "nbconvert_exporter": "python",
   "pygments_lexer": "ipython3",
   "version": "3.6.9"
  }
 },
 "nbformat": 4,
 "nbformat_minor": 2
}
