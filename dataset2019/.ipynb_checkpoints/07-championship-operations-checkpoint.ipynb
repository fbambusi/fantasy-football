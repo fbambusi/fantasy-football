{
 "cells": [
  {
   "cell_type": "code",
   "execution_count": 1,
   "metadata": {
    "collapsed": true
   },
   "outputs": [],
   "source": [
    "import pandas as pd"
   ]
  },
  {
   "cell_type": "code",
   "execution_count": 2,
   "metadata": {
    "collapsed": true
   },
   "outputs": [],
   "source": [
    "from amplpy import AMPL,Environment\n",
    "ampl = AMPL(Environment('/home/asino/Downloads/ampl_linux-intel64/'))\n",
    "ampl.setOption(\"solver\",\"/home/asino/Downloads/ampl_linux-intel64/cplex\")\n",
    "ampl.setOption(\"absmipgap\",1)\n",
    "\n"
   ]
  },
  {
   "cell_type": "code",
   "execution_count": 3,
   "metadata": {
    "collapsed": true
   },
   "outputs": [],
   "source": [
    "ME=\"bryan\""
   ]
  },
  {
   "cell_type": "code",
   "execution_count": 4,
   "metadata": {},
   "outputs": [
    {
     "name": "stdout",
     "output_type": "stream",
     "text": [
      "{'CRISCITO': 1, 'STRAKOSHA': 0, 'ZIELINSKI': 0, 'KURTIC': 0, 'ZAPATAD': 0, 'IZZO': 0, 'NKOULOU': 1, 'KOULIBALY': 0, 'POLITANO': 1, 'KESSIE': 0, 'BONIFAZI': 0, 'MURRU': 0, 'RADU': 0, 'QUAGLIARELLA': 0, 'VERETOUT': 0, 'GOMEZA': 0, 'BONUCCI': 0, 'BERISHAE': 0, 'FLORENZI': 0, 'MARTINEZL': 0, 'CHIELLINI': 0, 'MILENKOVIC': 0, 'SUSO': 0, 'MANDRAGORA': 0, 'NANDEZ': 0, 'IAGOFALQUE': 0, 'BALOTELLI': 0, 'PROTO': 0}\n"
     ]
    }
   ],
   "source": [
    "bought=pd.read_csv(\"availability-of-players.csv\")\n",
    "dictOfMyPlayers={}\n",
    "dictOfBrokenPlayers={}\n",
    "for idx,player in bought.iterrows():\n",
    "    if player[\"Owner\"]==ME:\n",
    "        if player[\"CanPlay\"]==0:\n",
    "            dictOfBrokenPlayers[player[\"Name\"]]=1\n",
    "        else:\n",
    "            dictOfBrokenPlayers[player[\"Name\"]]=0\n",
    "print(dictOfBrokenPlayers)   "
   ]
  },
  {
   "cell_type": "code",
   "execution_count": 5,
   "metadata": {},
   "outputs": [
    {
     "name": "stdout",
     "output_type": "stream",
     "text": [
      "Warning:\n",
      "\t07-prepare-selection.mod\n",
      "\tline 33 offset 991\n",
      "\tCaution: 0-dimensional slice\n"
     ]
    }
   ],
   "source": [
    "ampl.read(\"07-prepare-selection.mod\")\n",
    "ampl.readData(\"operations-mantra-online.dat\")"
   ]
  },
  {
   "cell_type": "code",
   "execution_count": 6,
   "metadata": {
    "collapsed": true
   },
   "outputs": [],
   "source": [
    "def suggestTeam(dictOfBrokenPlayers):\n",
    "    plas=ampl.getSet(\"Players\").getValues()\n",
    "    valuesForBrokenPlayersAmpl={}\n",
    "    for name in plas:\n",
    "        name=name[0]\n",
    "        #print(name)\n",
    "        valuesForBrokenPlayersAmpl[name]=0\n",
    "    for player,value in dictOfBrokenPlayers.items():\n",
    "        valuesForBrokenPlayersAmpl[player]=value\n",
    "    ampl.getParameter(\"broken\").setValues(valuesForBrokenPlayersAmpl)\n",
    "        \n",
    "        \n",
    "        \n",
    "    \n",
    "    ampl.solve()\n"
   ]
  },
  {
   "cell_type": "code",
   "execution_count": 7,
   "metadata": {},
   "outputs": [
    {
     "name": "stdout",
     "output_type": "stream",
     "text": [
      "{}\n",
      "CPLEX 12.8.0.0: optimal integer solution; objective 84.32151607\n",
      "1561 MIP simplex iterations\n",
      "0 branch-and-bound nodes\n"
     ]
    }
   ],
   "source": [
    "print(dictOfMyPlayers)\n",
    "suggestTeam(dictOfBrokenPlayers)\n",
    "#suggestTeam({},{})"
   ]
  },
  {
   "cell_type": "code",
   "execution_count": 8,
   "metadata": {
    "scrolled": true
   },
   "outputs": [
    {
     "name": "stdout",
     "output_type": "stream",
     "text": [
      "m433\n",
      "KOULIBALY plays  in slot ['Dc']  TOP\n",
      "MILENKOVIC plays  in slot ['Dc']  TOP\n",
      "SUSO plays  in slot ['W', 'A']  TOP\n",
      "GOMEZA plays  in slot ['W', 'A']  TOP\n",
      "IZZO plays  in slot ['Dd']  TOP\n",
      "MURRU plays  in slot ['Ds']  TOP\n",
      "KESSIE plays  in slot ['C']  TOP\n",
      "MANDRAGORA plays  in slot ['M']  TOP\n",
      "ZIELINSKI plays  in slot ['C', 'M']  TOP\n",
      "ZAPATAD plays  in slot ['A', 'Pc']  TOP\n",
      "STRAKOSHA plays  in slot ['Por']  TOP\n",
      "BONUCCI plays  in slot ['Dc']  NO\n",
      "BONIFAZI plays  in slot ['Dc']  NO\n",
      "IAGOFALQUE plays  in slot ['W', 'A']  NO\n",
      "FLORENZI plays  in slot ['Dd']  NO\n",
      "RADU plays  in slot ['Ds']  NO\n",
      "KURTIC plays  in slot ['C']  NO\n",
      "NANDEZ plays  in slot ['M']  NO\n",
      "VERETOUT plays  in slot ['C', 'M']  NO\n",
      "QUAGLIARELLA plays  in slot ['A', 'Pc']  NO\n",
      "BERISHAE plays  in slot ['Por']  NO\n",
      "Empty slots IN field: 0\n",
      "Empty slots out field: 1\n"
     ]
    }
   ],
   "source": [
    "putPlayerInSlot=ampl.getVariable(\"putPlayerInSlot\")\n",
    "cost=ampl.getParameter(\"cost\")\n",
    "pfs=ampl.getParameter(\"performance\")\n",
    "moduleChosen=ampl.getVariable(\"bidderChoosesModule\")\n",
    "\n",
    "roles=ampl.getSet(\"CompatibilityPlayerRole\").getValues().toDict()\n",
    "slots=ampl.getSet(\"CompatibilitySlotRole\").getValues().toDict()\n",
    "solution=putPlayerInSlot.getValues().toDict()\n",
    "costs=cost.getValues().toDict()\n",
    "pfs=pfs.getValues().toDict()\n",
    "modules=moduleChosen.getValues().toDict()\n",
    "moduleUsed=\"AAA\"\n",
    "\n",
    "\n",
    "for moduleName,taken in modules.items():\n",
    "    if taken>0.5:\n",
    "        #print(\"Module: {}\\n\\n\".format(moduleName))\n",
    "        moduleUsed=moduleName\n",
    "print(moduleUsed)\n",
    "myPls={}\n",
    "for key,val in solution.items():\n",
    "    \n",
    "    if key[0]==moduleUsed:\n",
    "        if val>0.5:\n",
    "            myPls[key[2]]=key[1]\n",
    "            #print(key,val)\n",
    "rolesA={}\n",
    "\n",
    "#To show the roles of each player\n",
    "for key,val in roles.items():\n",
    "    if key[0] not in rolesA.keys():\n",
    "        rolesA[key[0]]=[]\n",
    "    rolesA[key[0]].append(key[1])\n",
    "\n",
    "    \n",
    "mappingSlotNumberToPossibleRoles={}\n",
    "for key,val in slots.items():\n",
    "    if key[0]==moduleUsed:\n",
    "        \n",
    "        slotNr=key[1]\n",
    "        role=key[2]\n",
    "        if slotNr not in mappingSlotNumberToPossibleRoles.keys():\n",
    "            mappingSlotNumberToPossibleRoles[slotNr]=[]\n",
    "        mappingSlotNumberToPossibleRoles[slotNr].append(role)\n",
    "\n",
    "emptySlotsInField=0\n",
    "emptySlotsOutside=0\n",
    "for slotNr,possibleRoles in mappingSlotNumberToPossibleRoles.items():\n",
    "    if slotNr<=11:\n",
    "        privilege=\"TOP\"\n",
    "    else:\n",
    "        privilege=\"NO\"\n",
    "    try:\n",
    "        print(\"{} plays  in slot {}  {}\".format(myPls[slotNr], possibleRoles,privilege))\n",
    "    except KeyError:\n",
    "        if privilege==\"TOP\":\n",
    "            emptySlotsInField+=1\n",
    "        else:\n",
    "            emptySlotsOutside+=1\n",
    "print(\"Empty slots IN field: {}\".format(emptySlotsInField))\n",
    "print(\"Empty slots out field: {}\".format(emptySlotsOutside))"
   ]
  }
 ],
 "metadata": {
  "kernelspec": {
   "display_name": "Python 3",
   "language": "python",
   "name": "python3"
  },
  "language_info": {
   "codemirror_mode": {
    "name": "ipython",
    "version": 3
   },
   "file_extension": ".py",
   "mimetype": "text/x-python",
   "name": "python",
   "nbconvert_exporter": "python",
   "pygments_lexer": "ipython3",
   "version": "3.6.9"
  }
 },
 "nbformat": 4,
 "nbformat_minor": 2
}
