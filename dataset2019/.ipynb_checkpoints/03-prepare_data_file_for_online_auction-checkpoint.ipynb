{
 "cells": [
  {
   "cell_type": "code",
   "execution_count": 1,
   "metadata": {
    "collapsed": true
   },
   "outputs": [],
   "source": [
    "import pandas as pd"
   ]
  },
  {
   "cell_type": "code",
   "execution_count": 2,
   "metadata": {
    "collapsed": true
   },
   "outputs": [],
   "source": [
    "players=pd.read_csv(\"players_with_interpolated_price_mantra_corrected_perf5.csv\")"
   ]
  },
  {
   "cell_type": "code",
   "execution_count": 4,
   "metadata": {
    "collapsed": true
   },
   "outputs": [],
   "source": [
    "from amplpy import AMPL,Environment\n",
    "ampl = AMPL(Environment('/home/asino/Downloads/ampl_linux-intel64/'))\n",
    "ampl.setOption(\"solver\",\"/home/asino/Downloads/ampl_linux-intel64/cplex\")"
   ]
  },
  {
   "cell_type": "code",
   "execution_count": 5,
   "metadata": {},
   "outputs": [
    {
     "name": "stdout",
     "output_type": "stream",
     "text": [
      "Warning:\n",
      "\tantasy-auction.mod\n",
      "\tline 36 offset 1196\n",
      "\tCaution: 0-dimensional slice\n",
      "The license for this version of CPLEX will expire in 4.3 days.\n",
      "CPLEX 12.8.0.0: optimal integer solution within mipgap or absmipgap; objective 83.89915282\n",
      "21091896 MIP simplex iterations\n",
      "67194 branch-and-bound nodes\n",
      "absmipgap = 0.00723744, relmipgap = 8.62636e-05\n"
     ]
    }
   ],
   "source": [
    "ampl.read(\"fantasy-auction.mod\")\n",
    "ampl.readData(\"fantasy-auction-mantra.dat\")\n",
    "ampl.solve()\n"
   ]
  },
  {
   "cell_type": "code",
   "execution_count": 6,
   "metadata": {
    "collapsed": true
   },
   "outputs": [],
   "source": [
    "buy=ampl.getVariable(\"putPlayerInSlot\")\n",
    "solution=buy.getValues().toDict()"
   ]
  },
  {
   "cell_type": "code",
   "execution_count": null,
   "metadata": {
    "collapsed": true
   },
   "outputs": [],
   "source": []
  },
  {
   "cell_type": "code",
   "execution_count": 3,
   "metadata": {},
   "outputs": [
    {
     "name": "stdout",
     "output_type": "stream",
     "text": [
      "     Unnamed: 0   Id_x  R_x          Nome   Squadra_x    Pg    Mv    Mf  \\\n",
      "0             0    4.0    P    SPORTIELLO   Frosinone  35.0  6.11  4.21   \n",
      "1             1   11.0    D         CONTI       Milan   9.0  5.78  5.83   \n",
      "2             2   20.0    C      CIGARINI    Cagliari  23.0  5.87  5.72   \n",
      "3             3   21.0    C  D'ALESSANDRO     Udinese  20.0  5.95  5.92   \n",
      "4             4   27.0    C        GRASSI       Parma   6.0  5.83  5.83   \n",
      "5             5   28.0    C        KURTIC        SPAL  30.0  6.13  6.75   \n",
      "6             6   41.0    P       MIRANTE        Roma  11.0  6.55  6.27   \n",
      "7             7   50.0    D         MBAYE     Bologna  23.0  5.80  5.96   \n",
      "8             8   54.0    D    ROSSETTINI      Chievo  21.0  5.55  5.43   \n",
      "9             9   58.0    C       DIAWARA      Napoli  11.0  5.82  5.64   \n",
      "10           10   73.0    D      GAGLIOLO       Parma  34.0  5.87  5.68   \n",
      "11           11   90.0    A       LASAGNA     Udinese  34.0  5.69  6.13   \n",
      "12           12   99.0    D    CACCIATORE    Cagliari  14.0  5.86  5.89   \n",
      "13           13  106.0    D     MATTIELLO     Bologna  16.0  5.72  5.84   \n",
      "14           14  111.0    C         BIRSA    Cagliari  26.0  5.88  6.17   \n",
      "15           15  112.0    C        CASTRO    Cagliari  12.0  6.12  6.58   \n",
      "16           16  118.0    C   RADOVANOVIC       Genoa  35.0  5.66  5.53   \n",
      "17           17  123.0    A       INGLESE       Parma  25.0  6.14  7.24   \n",
      "18           18  126.0    A      PALOSCHI        SPAL  17.0  5.74  6.00   \n",
      "19           19  133.0    P     SKORUPSKI     Bologna  38.0  6.11  4.62   \n",
      "20           20  140.0    D         HYSAJ      Napoli  25.0  5.76  5.76   \n",
      "21           21  141.0    D       LAURINI  Fiorentina  13.0  5.81  5.65   \n",
      "22           22  144.0    D       TONELLI   Sampdoria  19.0  5.84  5.74   \n",
      "23           23  148.0    C        KRUNIC      Empoli  33.0  6.00  6.50   \n",
      "24           24  150.0    C      SAPONARA   Sampdoria  21.0  6.12  6.52   \n",
      "25           25  152.0    C     ZIELINSKI      Napoli  36.0  6.15  6.62   \n",
      "26           26  159.0    P          SEPE       Parma  37.0  6.09  4.43   \n",
      "27           27  169.0    D       TOMOVIC      Chievo  10.0  5.60  5.85   \n",
      "28           28  170.0    C        BADELJ       Lazio  22.0  5.82  5.73   \n",
      "29           29  173.0    C       CAPEZZI      Empoli  10.0  5.65  5.30   \n",
      "..          ...    ...  ...           ...         ...   ...   ...   ...   \n",
      "533         533    NaN  NaN           NaN         NaN   NaN   NaN   NaN   \n",
      "534         534    NaN  NaN           NaN         NaN   NaN   NaN   NaN   \n",
      "535         535    NaN  NaN           NaN         NaN   NaN   NaN   NaN   \n",
      "536         536    NaN  NaN           NaN         NaN   NaN   NaN   NaN   \n",
      "537         537    NaN  NaN           NaN         NaN   NaN   NaN   NaN   \n",
      "538         538    NaN  NaN           NaN         NaN   NaN   NaN   NaN   \n",
      "539         539    NaN  NaN           NaN         NaN   NaN   NaN   NaN   \n",
      "540         540    NaN  NaN           NaN         NaN   NaN   NaN   NaN   \n",
      "541         541    NaN  NaN           NaN         NaN   NaN   NaN   NaN   \n",
      "542         542    NaN  NaN           NaN         NaN   NaN   NaN   NaN   \n",
      "543         543    NaN  NaN           NaN         NaN   NaN   NaN   NaN   \n",
      "544         544    NaN  NaN           NaN         NaN   NaN   NaN   NaN   \n",
      "545         545    NaN  NaN           NaN         NaN   NaN   NaN   NaN   \n",
      "546         546    NaN  NaN           NaN         NaN   NaN   NaN   NaN   \n",
      "547         547    NaN  NaN           NaN         NaN   NaN   NaN   NaN   \n",
      "548         548    NaN  NaN           NaN         NaN   NaN   NaN   NaN   \n",
      "549         549    NaN  NaN           NaN         NaN   NaN   NaN   NaN   \n",
      "550         550    NaN  NaN           NaN         NaN   NaN   NaN   NaN   \n",
      "551         551    NaN  NaN           NaN         NaN   NaN   NaN   NaN   \n",
      "552         552    NaN  NaN           NaN         NaN   NaN   NaN   NaN   \n",
      "553         553    NaN  NaN           NaN         NaN   NaN   NaN   NaN   \n",
      "554         554    NaN  NaN           NaN         NaN   NaN   NaN   NaN   \n",
      "555         555    NaN  NaN           NaN         NaN   NaN   NaN   NaN   \n",
      "556         556    NaN  NaN           NaN         NaN   NaN   NaN   NaN   \n",
      "557         557    NaN  NaN           NaN         NaN   NaN   NaN   NaN   \n",
      "558         558    NaN  NaN           NaN         NaN   NaN   NaN   NaN   \n",
      "559         559    NaN  NaN           NaN         NaN   NaN   NaN   NaN   \n",
      "560         560    NaN  NaN           NaN         NaN   NaN   NaN   NaN   \n",
      "561         561    NaN  NaN           NaN         NaN   NaN   NaN   NaN   \n",
      "562         562    NaN  NaN           NaN         NaN   NaN   NaN   NaN   \n",
      "\n",
      "     WeightedPerf               Name  Id_y      R_y   Squadra_y  Qt. Amantra  \\\n",
      "0        3.877632         SPORTIELLO     4      Por    Atalanta            1   \n",
      "1        1.380789              CONTI    11     Dd;E       Milan            5   \n",
      "2        3.462105           CIGARINI    20      M;C    Cagliari            7   \n",
      "3        3.115789        DALESSANDRO    21        E        SPAL            7   \n",
      "4        0.920526             GRASSI    27        C       Parma            7   \n",
      "5        5.328947             KURTIC    28      C;T        SPAL           16   \n",
      "6        1.815000            MIRANTE    41      Por        Roma            1   \n",
      "7        3.607368              MBAYE    50  Dd;Ds;E     Bologna            6   \n",
      "8        3.000789         ROSSETTINI    54    Dd;Dc       Lecce            5   \n",
      "9        1.632632            DIAWARA    58      M;C        Roma            9   \n",
      "10       5.082105           GAGLIOLO    73    Ds;Dc       Parma            8   \n",
      "11       5.484737            LASAGNA    90       Pc     Udinese           16   \n",
      "12       2.170000         CACCIATORE    99  Dd;Ds;E    Cagliari            8   \n",
      "13       2.458947          MATTIELLO   106  Dd;Ds;E    Cagliari            6   \n",
      "14       4.221579              BIRSA   111        T    Cagliari            7   \n",
      "15       2.077895             CASTRO   112      C;T    Cagliari           13   \n",
      "16       5.093421        RADOVANOVIC   118        M       Genoa            7   \n",
      "17       4.763158            INGLESE   123       Pc       Parma           23   \n",
      "18       2.684211           PALOSCHI   126       Pc        SPAL            8   \n",
      "19       4.620000          SKORUPSKI   133      Por     Bologna            9   \n",
      "20       3.789474              HYSAJ   140  Dd;Ds;E      Napoli            7   \n",
      "21       1.932895            LAURINI   141     Dd;E       Parma            7   \n",
      "22       2.870000            TONELLI   144       Dc      Napoli            5   \n",
      "23       5.644737             KRUNIC   148      C;T       Milan           13   \n",
      "24       3.603158           SAPONARA   150        T       Genoa           11   \n",
      "25       6.271579          ZIELINSKI   152      C;T      Napoli           16   \n",
      "26       4.313421               SEPE   159      Por       Parma            8   \n",
      "27       1.539474            TOMOVIC   169    Dd;Dc        SPAL            4   \n",
      "28       3.317368             BADELJ   170      M;C  Fiorentina            6   \n",
      "29       1.394737            CAPEZZI   173      M;C   Sampdoria            3   \n",
      "..            ...                ...   ...      ...         ...          ...   \n",
      "533      1.447952           ADORANTE  4387       Pc       Parma            1   \n",
      "534      1.447952              RAUTI  4489       Pc      Torino            1   \n",
      "535      1.447952              TUPTA   767       Pc      Verona            1   \n",
      "536      1.447952           VIVIANIM  4451      M;C     Brescia            1   \n",
      "537      1.447952            ROVELLA  4459      M;C       Genoa            1   \n",
      "538      1.447952          STREFEZZA  4486      E;W        SPAL            1   \n",
      "539      1.447952             TERZIC  4375     Ds;E  Fiorentina            1   \n",
      "540      1.447952              GALLO  4502     Ds;E       Lecce            1   \n",
      "541      1.447952           RANIERIL  4378    Ds;Dc  Fiorentina            1   \n",
      "542      1.447952              BOUAH  4481     Dd;E        Roma            1   \n",
      "543      1.447952              GILLI  4488     Dd;E      Torino            1   \n",
      "544      1.447952          CRESCENZI   457  Dd;Ds;E      Verona            1   \n",
      "545      1.447952              OKOLI  4432       Dc    Atalanta            1   \n",
      "546      1.447952         MANGRAVITI  4504       Dc     Brescia            1   \n",
      "547      1.447952             RIZZON  4392       Dc       Genoa            1   \n",
      "548      1.447952         JORGESILVA  4467       Dc       Lazio            1   \n",
      "549      1.447952          RICCARDID  4473       Dc       Lecce            1   \n",
      "550      1.447952             GABBIA  4401       Dc       Milan            1   \n",
      "551      1.447952            MINELLI  4480       Dc       Parma            1   \n",
      "552      1.447952         BUONGIORNO  2724       Dc      Torino            1   \n",
      "553      1.447952           CIPRIANO  4509       Dc       Lazio            1   \n",
      "554      1.447952            COLLEYE  4435    C;W;T    Atalanta            1   \n",
      "555      1.447952            ZENNARO  4383      C;T       Genoa            1   \n",
      "556      1.447952          DEANGELIS  4490      C;T      Torino            1   \n",
      "557      1.447952             AGOUME  4411        C       Inter            1   \n",
      "558      1.447952  NICOLUSSICAVIGLIA  4349        C    Juventus            1   \n",
      "559      1.447952       LUCASFELIPPE  4499        C      Verona            1   \n",
      "560      1.447952          CAMBIAGHI  4436        A    Atalanta            1   \n",
      "561      1.447952           CANGIANO  4483        A     Bologna            1   \n",
      "562      1.447952           BAHLOULI  4508        A   Sampdoria            1   \n",
      "\n",
      "     Qt. Imantra  Diff.  \n",
      "0              1      0  \n",
      "1              5      0  \n",
      "2              7      0  \n",
      "3              7      0  \n",
      "4              7      0  \n",
      "5             16      0  \n",
      "6              1      0  \n",
      "7              6      0  \n",
      "8              5      0  \n",
      "9              9      0  \n",
      "10             8      0  \n",
      "11            16      0  \n",
      "12             8      0  \n",
      "13             6      0  \n",
      "14             7      0  \n",
      "15            13      0  \n",
      "16             6      1  \n",
      "17            23      0  \n",
      "18             8      0  \n",
      "19             9      0  \n",
      "20             7      0  \n",
      "21             7      0  \n",
      "22             5      0  \n",
      "23            13      0  \n",
      "24            11      0  \n",
      "25            17     -1  \n",
      "26             8      0  \n",
      "27             4      0  \n",
      "28             6      0  \n",
      "29             3      0  \n",
      "..           ...    ...  \n",
      "533            1      0  \n",
      "534            1      0  \n",
      "535            1      0  \n",
      "536            1      0  \n",
      "537            1      0  \n",
      "538            1      0  \n",
      "539            1      0  \n",
      "540            1      0  \n",
      "541            1      0  \n",
      "542            1      0  \n",
      "543            1      0  \n",
      "544            1      0  \n",
      "545            1      0  \n",
      "546            1      0  \n",
      "547            1      0  \n",
      "548            1      0  \n",
      "549            1      0  \n",
      "550            1      0  \n",
      "551            1      0  \n",
      "552            1      0  \n",
      "553            1      0  \n",
      "554            1      0  \n",
      "555            1      0  \n",
      "556            1      0  \n",
      "557            1      0  \n",
      "558            1      0  \n",
      "559            1      0  \n",
      "560            1      0  \n",
      "561            1      0  \n",
      "562            1      0  \n",
      "\n",
      "[563 rows x 16 columns]\n"
     ]
    }
   ],
   "source": [
    "print(players)"
   ]
  },
  {
   "cell_type": "code",
   "execution_count": 46,
   "metadata": {},
   "outputs": [
    {
     "name": "stdout",
     "output_type": "stream",
     "text": [
      "{1.0: None, 2.0: None, 3.0: None, 4.0: None, 5.0: None, 6.0: None}\n",
      "{1.0: 83.8991528154343, 2.0: 83.8991528154343, 3.0: 83.8991528154343, 4.0: 83.8991528154343, 5.0: 83.8991528154343, 6.0: 83.8991528154343}\n"
     ]
    }
   ],
   "source": [
    "bidders=ampl.getSet(\"Bidders\")\n",
    "bidders=bidders.getValues().toDict()\n",
    "print(bidders)\n",
    "performances=ampl.getVariable(\"performanceOfBidder\").getValues().toDict()\n",
    "print(performances)"
   ]
  },
  {
   "cell_type": "code",
   "execution_count": 8,
   "metadata": {
    "collapsed": true
   },
   "outputs": [],
   "source": [
    "teams=[]\n",
    "for bidder,val in bidders.items():\n",
    "    teams.append([])\n",
    "for key,val in solution.items():\n",
    "    if val>0.0:\n",
    "        elems=list(key)\n",
    "        teams[int(elems[1])-1].append(elems[2])\n",
    "    #print(key,val)\n",
    "    "
   ]
  },
  {
   "cell_type": "code",
   "execution_count": 9,
   "metadata": {},
   "outputs": [
    {
     "name": "stdout",
     "output_type": "stream",
     "text": [
      "['BARELLA', 'BASELLI', 'BERARDI', 'BONIFAZI', 'CIONEK', 'CRISCITO', 'FOFANA', 'GODIN', 'GOSENS', 'IZZO', 'LUISALBERTO', 'MANDRAGORA', 'MERTENS', 'MILIK', 'PAROLO', 'POLITANO', 'RADOVANOVIC', 'RIBERY', 'SKORUPSKI', 'SKRINIAR', 'SUSO', 'SZCZESNY']\n",
      "['ACERBI', 'AINA', 'AUDERO', 'BELOTTI', 'BIRASCHI', 'CASTAGNE', 'CONSIGLI', 'DELIGT', 'DEPAUL', 'FARES', 'GERVINHO', 'IAGOFALQUE', 'IONITA', 'LUKAKUR', 'LULIC', 'MANCINIG', 'NAINGGOLAN', 'PJANIC', 'ROMAGNOLIA', 'SANCHEZA', 'VICARI', 'ZIELINSKI']\n",
      "['BENNACER', 'CALHANOGLU', 'CHIESA', 'CRAGNO', 'DAMBROSIO', 'EKDAL', 'FAZIO', 'FELIPE', 'GOLDANIGA', 'ILICIC', 'KOULIBALY', 'KURTIC', 'LAZOVIC', 'MEITE', 'MILINKOVICSAVIC', 'MISSIROLI', 'ORSOLINI', 'PALOMINO', 'PAVOLETTI', 'PIATEK', 'PUSSETTO', 'SPORTIELLO']\n",
      "['ALLAN', 'ASAMOAH', 'BENASSI', 'BESSA', 'CHIELLINI', 'CORREA', 'CRISTANTE', 'CRISTIANORONALDO', 'DANILO', 'DEPAOLI', 'DEVRIJ', 'GOMEZA', 'HANDANOVIC', 'IACOPONI', 'INSIGNE', 'MURRU', 'MUSACCHIO', 'PALACIO', 'POLI', 'RAFAELLEAO', 'RUIZ', 'SEPE']\n",
      "['BANI', 'BONUCCI', 'CALABRIA', 'CALLEJON', 'CAPUTO', 'HATEBOER', 'KOLAROV', 'KRUNIC', 'LAZZARIM', 'LINETTY', 'LIROLA', 'MANOLAS', 'MARTINEZL', 'MILENKOVIC', 'PASALIC', 'PAULOPEZ', 'PETAGNA', 'ROGERIO', 'ROMULO', 'STRAKOSHA', 'VERETOUT', 'ZAPATAD']\n",
      "['ALEXSANDRO', 'BARILLA', 'BIRAGHI', 'BROZOVIC', 'DEFREL', 'DONNARUMMAG', 'FARIAS', 'FLORENZI', 'FREULER', 'GAGLIOLO', 'IMMOBILE', 'KESSIE', 'KOUAME', 'LOZANO', 'MATUIDI', 'NKOULOU', 'NUYTINCK', 'PISACANE', 'QUAGLIARELLA', 'RADU', 'RINCON', 'SIRIGU']\n"
     ]
    }
   ],
   "source": [
    "for i in range(6):\n",
    "    print(teams[i])\n",
    "    #print(i)\n",
    "    pass"
   ]
  },
  {
   "cell_type": "code",
   "execution_count": 10,
   "metadata": {
    "collapsed": true
   },
   "outputs": [],
   "source": [
    "playersPerf=ampl.getParameter(\"performance\")\n",
    "playersPerf=playersPerf.getValues().toDict()\n",
    "#print(playersPerf)"
   ]
  },
  {
   "cell_type": "code",
   "execution_count": 47,
   "metadata": {},
   "outputs": [
    {
     "name": "stdout",
     "output_type": "stream",
     "text": [
      "[83.8991528154343, 83.8991528154343, 83.8991528154343, 83.8991528154343, 83.8991528154343, 83.8991528154343]\n"
     ]
    }
   ],
   "source": [
    "teamPerformances=[]\n",
    "curr=1.0\n",
    "for team in teams:\n",
    "    perf=0\n",
    "    for player in team:\n",
    "        perf+=playersPerf[player]\n",
    "    #teamPerformances.append(perf)\n",
    "    teamPerformances.append(performances[curr])\n",
    "    curr+=1.0\n",
    "print(teamPerformances)"
   ]
  },
  {
   "cell_type": "code",
   "execution_count": 50,
   "metadata": {},
   "outputs": [
    {
     "name": "stdout",
     "output_type": "stream",
     "text": [
      "Unnamed: 0        2.810000e+02\n",
      "Id_x              1.514217e+03\n",
      "Pg                1.930861e+01\n",
      "Mv                5.300445e+00\n",
      "Mf                5.400861e+00\n",
      "WeightedPerf      2.963887e+00\n",
      "Id_y              2.102456e+03\n",
      "Qt. Amantra       8.046181e+00\n",
      "Qt. Imantra       7.959147e+00\n",
      "Diff.             8.703375e-02\n",
      "ComputedPrices   -7.389392e-15\n",
      "dtype: float64\n",
      "Index(['Unnamed: 0', 'Id_x', 'Pg', 'Mv', 'Mf', 'WeightedPerf', 'Id_y',\n",
      "       'Qt. Amantra', 'Qt. Imantra', 'Diff.', 'ComputedPrices'],\n",
      "      dtype='object')\n",
      "40.084312880758894\n",
      "12.473707644368975\n"
     ]
    }
   ],
   "source": [
    "means=players.mean()\n",
    "print(means)\n",
    "print(means.index)\n",
    "sumOfMeans=0\n",
    "roles={\"A\":6,\"C\":8,\"P\":3,\"D\":8}\n",
    "sumOfMeans+=means[\"WeightedPerf\"]*11+means[\"WeightedPerf\"]*0.3439*11\n",
    "    #sumOfMeans+=6*nr\n",
    "\n",
    "normalizedPerf=min(teamPerformances)-sumOfMeans\n",
    "print(normalizedPerf)\n",
    "budget=500\n",
    "unitCostOfPerf=budget/normalizedPerf\n",
    "print(unitCostOfPerf)"
   ]
  },
  {
   "cell_type": "code",
   "execution_count": 26,
   "metadata": {},
   "outputs": [
    {
     "name": "stdout",
     "output_type": "stream",
     "text": [
      "['BARELLA', 'BASELLI', 'BERARDI', 'BONIFAZI', 'CIONEK', 'CRISCITO', 'FOFANA', 'GODIN', 'GOSENS', 'IZZO', 'LUISALBERTO', 'MANDRAGORA', 'MERTENS', 'MILIK', 'PAROLO', 'POLITANO', 'RADOVANOVIC', 'RIBERY', 'SKORUPSKI', 'SKRINIAR', 'SUSO', 'SZCZESNY']\n",
      "['ACERBI', 'AINA', 'AUDERO', 'BELOTTI', 'BIRASCHI', 'CASTAGNE', 'CONSIGLI', 'DELIGT', 'DEPAUL', 'FARES', 'GERVINHO', 'IAGOFALQUE', 'IONITA', 'LUKAKUR', 'LULIC', 'MANCINIG', 'NAINGGOLAN', 'PJANIC', 'ROMAGNOLIA', 'SANCHEZA', 'VICARI', 'ZIELINSKI']\n",
      "['BENNACER', 'CALHANOGLU', 'CHIESA', 'CRAGNO', 'DAMBROSIO', 'EKDAL', 'FAZIO', 'FELIPE', 'GOLDANIGA', 'ILICIC', 'KOULIBALY', 'KURTIC', 'LAZOVIC', 'MEITE', 'MILINKOVICSAVIC', 'MISSIROLI', 'ORSOLINI', 'PALOMINO', 'PAVOLETTI', 'PIATEK', 'PUSSETTO', 'SPORTIELLO']\n",
      "['ALLAN', 'ASAMOAH', 'BENASSI', 'BESSA', 'CHIELLINI', 'CORREA', 'CRISTANTE', 'CRISTIANORONALDO', 'DANILO', 'DEPAOLI', 'DEVRIJ', 'GOMEZA', 'HANDANOVIC', 'IACOPONI', 'INSIGNE', 'MURRU', 'MUSACCHIO', 'PALACIO', 'POLI', 'RAFAELLEAO', 'RUIZ', 'SEPE']\n",
      "['BANI', 'BONUCCI', 'CALABRIA', 'CALLEJON', 'CAPUTO', 'HATEBOER', 'KOLAROV', 'KRUNIC', 'LAZZARIM', 'LINETTY', 'LIROLA', 'MANOLAS', 'MARTINEZL', 'MILENKOVIC', 'PASALIC', 'PAULOPEZ', 'PETAGNA', 'ROGERIO', 'ROMULO', 'STRAKOSHA', 'VERETOUT', 'ZAPATAD']\n",
      "['ALEXSANDRO', 'BARILLA', 'BIRAGHI', 'BROZOVIC', 'DEFREL', 'DONNARUMMAG', 'FARIAS', 'FLORENZI', 'FREULER', 'GAGLIOLO', 'IMMOBILE', 'KESSIE', 'KOUAME', 'LOZANO', 'MATUIDI', 'NKOULOU', 'NUYTINCK', 'PISACANE', 'QUAGLIARELLA', 'RADU', 'RINCON', 'SIRIGU']\n"
     ]
    }
   ],
   "source": [
    "for team in teams:\n",
    "    print(team)"
   ]
  },
  {
   "cell_type": "code",
   "execution_count": 51,
   "metadata": {},
   "outputs": [
    {
     "name": "stdout",
     "output_type": "stream",
     "text": [
      "Unnamed: 0        2.810000e+02\n",
      "Id_x              1.514217e+03\n",
      "Pg                1.930861e+01\n",
      "Mv                5.300445e+00\n",
      "Mf                5.400861e+00\n",
      "WeightedPerf      2.963887e+00\n",
      "Id_y              2.102456e+03\n",
      "Qt. Amantra       8.046181e+00\n",
      "Qt. Imantra       7.959147e+00\n",
      "Diff.             8.703375e-02\n",
      "ComputedPrices   -7.389392e-15\n",
      "dtype: float64\n"
     ]
    }
   ],
   "source": [
    "def computePriceOfPlayer(playersDF,unitCostOfPerf):\n",
    "    \n",
    "    medians=players.mean()\n",
    "    print(medians)\n",
    "    prices=[]\n",
    "    for  index, player in playersDF.iterrows():\n",
    "        toSub=medians[\"WeightedPerf\"]\n",
    "        prices.append((player[\"WeightedPerf\"]-toSub)*unitCostOfPerf)\n",
    "    playersDF[\"ComputedPrices\"]=prices\n",
    "computePriceOfPlayer(players,unitCostOfPerf)\n",
    "players.to_csv(\"players_with_interpolated_price_mantra_corrected_perf5.csv\")"
   ]
  }
 ],
 "metadata": {
  "kernelspec": {
   "display_name": "Python 3",
   "language": "python",
   "name": "python3"
  },
  "language_info": {
   "codemirror_mode": {
    "name": "ipython",
    "version": 3
   },
   "file_extension": ".py",
   "mimetype": "text/x-python",
   "name": "python",
   "nbconvert_exporter": "python",
   "pygments_lexer": "ipython3",
   "version": "3.6.9"
  }
 },
 "nbformat": 4,
 "nbformat_minor": 2
}
