{
 "cells": [
  {
   "cell_type": "code",
   "execution_count": 1,
   "metadata": {
    "collapsed": true
   },
   "outputs": [],
   "source": [
    "import pandas as pd"
   ]
  },
  {
   "cell_type": "code",
   "execution_count": 2,
   "metadata": {
    "collapsed": true
   },
   "outputs": [],
   "source": [
    "players=pd.read_csv(\"players_with_interpolated_mean.csv\")"
   ]
  },
  {
   "cell_type": "code",
   "execution_count": 3,
   "metadata": {},
   "outputs": [
    {
     "name": "stdout",
     "output_type": "stream",
     "text": [
      "     Unnamed: 0  Unnamed: 0.1               Name  VarianceFantasyEvaluation  \\\n",
      "0             0           3.0             ACERBI                   0.502312   \n",
      "1             1           6.0           ADJAPONG                   0.448958   \n",
      "2             2          10.0               AINA                        NaN   \n",
      "3             3          14.0         ALEXSANDRO                   2.581538   \n",
      "4             4          16.0              ALLAN                   1.834459   \n",
      "5             5          20.0            ANSALDI                   1.214167   \n",
      "6             6          27.0            ASAMOAH                   0.210526   \n",
      "7             7          29.0             AUDERO                        NaN   \n",
      "8             8          30.0            BABACAR                   3.453202   \n",
      "9             9          31.0             BADELJ                   1.387464   \n",
      "10           10          35.0              BALIC                   0.261905   \n",
      "11           11          36.0               BANI                   0.232292   \n",
      "12           12          37.0              BARAK                   4.761141   \n",
      "13           13          40.0            BARELLA                   2.363859   \n",
      "14           14          42.0            BARILLA                        NaN   \n",
      "15           15          43.0            BARRETO                        NaN   \n",
      "16           16          45.0             BARROW                   3.151515   \n",
      "17           17          47.0            BASELLI                   2.079637   \n",
      "18           18          50.0            BASTONI                   0.062500   \n",
      "19           19          51.0             BASTOS                   2.597619   \n",
      "20           20          56.0            BELOTTI                   8.805444   \n",
      "21           21          57.0            BENASSI                   2.952521   \n",
      "22           22          59.0           BENNACER                        NaN   \n",
      "23           23          60.0          BENTANCUR                   0.094737   \n",
      "24           24          61.0            BERARDI                   2.897849   \n",
      "25           25          62.0          BERENGUER                   1.318723   \n",
      "26           26          63.0        BERESZYNSKI                   0.313978   \n",
      "27           27          65.0           BERISHAE                   1.199462   \n",
      "28           28          66.0       BERNARDESCHI                   2.987554   \n",
      "29           29          69.0              BESSA                   2.657077   \n",
      "..          ...           ...                ...                        ...   \n",
      "540         540           NaN           VIVIANIM                        NaN   \n",
      "541         541           NaN         COLOMBATTO                        NaN   \n",
      "542         542           NaN            MONTIEL                        NaN   \n",
      "543         543           NaN            ROVELLA                        NaN   \n",
      "544         544           NaN            ZENNARO                        NaN   \n",
      "545         545           NaN             AGOUME                        NaN   \n",
      "546         546           NaN            FAGIOLI                        NaN   \n",
      "547         547           NaN  NICOLUSSICAVIGLIA                        NaN   \n",
      "548         548           NaN          PORTANOVA                        NaN   \n",
      "549         549           NaN            GAETANO                        NaN   \n",
      "550         550           NaN             MACHIN                        NaN   \n",
      "551         551           NaN           RICCARDI                        NaN   \n",
      "552         552           NaN          STREFEZZA                        NaN   \n",
      "553         553           NaN          DEANGELIS                        NaN   \n",
      "554         554           NaN          COULIBALY                        NaN   \n",
      "555         555           NaN       LUCASFELIPPE                        NaN   \n",
      "556         556           NaN          CAMBIAGHI                        NaN   \n",
      "557         557           NaN            PICCOLI                        NaN   \n",
      "558         558           NaN             JUWARA                        NaN   \n",
      "559         559           NaN         ESPOSITOSE                        NaN   \n",
      "560         560           NaN           SALCEDOE                        NaN   \n",
      "561         561           NaN           ADORANTE                        NaN   \n",
      "562         562           NaN             BARAYE                        NaN   \n",
      "563         563           NaN           CANGIANO                        NaN   \n",
      "564         564           NaN           BAHLOULI                        NaN   \n",
      "565         565           NaN          RASPADORI                        NaN   \n",
      "566         566           NaN            MILLICO                        NaN   \n",
      "567         567           NaN              RAUTI                        NaN   \n",
      "568         568           NaN              MICIN                        NaN   \n",
      "569         569           NaN              TUPTA                        NaN   \n",
      "\n",
      "     PlayedMatches        Team Role  MedianFantasyEvaluation  \\\n",
      "0             38.0    Sassuolo    D                     6.00   \n",
      "1             16.0    Sassuolo    D                     6.00   \n",
      "2              1.0         NaN    D                      NaN   \n",
      "3             26.0    Juventus    D                     6.00   \n",
      "4             38.0      Napoli    C                     6.25   \n",
      "5             25.0      Torino    D                     6.50   \n",
      "6             19.0    Juventus    D                     6.00   \n",
      "7             30.0         NaN    P                      NaN   \n",
      "8             29.0    Sassuolo    A                     6.00   \n",
      "9             27.0  Fiorentina    C                     6.00   \n",
      "10            21.0     Udinese    C                     6.00   \n",
      "11            16.0      Chievo    D                     5.75   \n",
      "12            34.0     Udinese    C                     6.00   \n",
      "13            34.0    Cagliari    C                     6.00   \n",
      "14             1.0         NaN    C                      NaN   \n",
      "15            10.0         NaN    C                      NaN   \n",
      "16            12.0    Atalanta    A                     6.25   \n",
      "17            32.0      Torino    C                     6.00   \n",
      "18             4.0    Atalanta    D                     6.00   \n",
      "19            21.0       Lazio    D                     6.00   \n",
      "20            32.0      Torino    A                     5.75   \n",
      "21            35.0  Fiorentina    C                     5.50   \n",
      "22            21.0         NaN    C                      NaN   \n",
      "23            20.0    Juventus    C                     6.00   \n",
      "24            31.0    Sassuolo    A                     5.50   \n",
      "25            22.0      Torino    C                     6.00   \n",
      "26            31.0   Sampdoria    D                     5.50   \n",
      "27            31.0    Atalanta    P                     5.00   \n",
      "28            22.0    Juventus    C                     6.00   \n",
      "29            28.0       Genoa    C                     6.00   \n",
      "..             ...         ...  ...                      ...   \n",
      "540            NaN         NaN  NaN                      NaN   \n",
      "541            NaN         NaN  NaN                      NaN   \n",
      "542            NaN         NaN  NaN                      NaN   \n",
      "543            NaN         NaN  NaN                      NaN   \n",
      "544            NaN         NaN  NaN                      NaN   \n",
      "545            NaN         NaN  NaN                      NaN   \n",
      "546            NaN         NaN  NaN                      NaN   \n",
      "547            NaN         NaN  NaN                      NaN   \n",
      "548            NaN         NaN  NaN                      NaN   \n",
      "549            NaN         NaN  NaN                      NaN   \n",
      "550            NaN         NaN  NaN                      NaN   \n",
      "551            NaN         NaN  NaN                      NaN   \n",
      "552            NaN         NaN  NaN                      NaN   \n",
      "553            NaN         NaN  NaN                      NaN   \n",
      "554            NaN         NaN  NaN                      NaN   \n",
      "555            NaN         NaN  NaN                      NaN   \n",
      "556            NaN         NaN  NaN                      NaN   \n",
      "557            NaN         NaN  NaN                      NaN   \n",
      "558            NaN         NaN  NaN                      NaN   \n",
      "559            NaN         NaN  NaN                      NaN   \n",
      "560            NaN         NaN  NaN                      NaN   \n",
      "561            NaN         NaN  NaN                      NaN   \n",
      "562            NaN         NaN  NaN                      NaN   \n",
      "563            NaN         NaN  NaN                      NaN   \n",
      "564            NaN         NaN  NaN                      NaN   \n",
      "565            NaN         NaN  NaN                      NaN   \n",
      "566            NaN         NaN  NaN                      NaN   \n",
      "567            NaN         NaN  NaN                      NaN   \n",
      "568            NaN         NaN  NaN                      NaN   \n",
      "569            NaN         NaN  NaN                      NaN   \n",
      "\n",
      "     WeightedFantasyEvaluation  Qt..A  ...  Owner  Price MantraRole  \\\n",
      "0                     5.934211   12.0  ...    NaN    NaN         Dc   \n",
      "1                     2.513158    2.0  ...    NaN    NaN          E   \n",
      "2                     0.000000    5.0  ...    NaN    NaN         Dd   \n",
      "3                     4.578947   17.0  ...    NaN    NaN         Ds   \n",
      "4                     6.750000   18.0  ...     ME   20.0          C   \n",
      "5                     4.197368   10.0  ...    NaN    NaN          E   \n",
      "6                     3.052632    9.0  ...    NaN    NaN          E   \n",
      "7                     4.723184   10.0  ...    NaN    NaN        Por   \n",
      "8                     5.039474   15.0  ...     ME   14.0         Pc   \n",
      "9                     4.394737    7.0  ...    NaN    NaN          M   \n",
      "10                    3.144737    2.0  ...    NaN    NaN          C   \n",
      "11                    2.434211    6.0  ...    NaN    NaN         Dc   \n",
      "12                    6.052632   14.0  ...    NaN    NaN          T   \n",
      "13                    5.986842   14.0  ...    NaN    NaN          C   \n",
      "14                    0.000000    5.0  ...    NaN    NaN          C   \n",
      "15                    1.593530    5.0  ...    NaN    NaN          C   \n",
      "16                    2.263158   10.0  ...    NaN    NaN         Pc   \n",
      "17                    5.236842   10.0  ...    NaN    NaN          C   \n",
      "18                    0.644737    1.0  ...    NaN    NaN         Dc   \n",
      "19                    3.618421    8.0  ...    NaN    NaN         Dc   \n",
      "20                    5.710526   29.0  ...    NaN    NaN         Pc   \n",
      "21                    5.842105   15.0  ...    NaN    NaN          C   \n",
      "22                    3.371788    6.0  ...    NaN    NaN          C   \n",
      "23                    3.105263    7.0  ...    NaN    NaN          C   \n",
      "24                    4.697368   18.0  ...     VE   14.0          A   \n",
      "25                    3.565789    5.0  ...    NaN    NaN          W   \n",
      "26                    4.710526    7.0  ...    NaN    NaN         Dd   \n",
      "27                    4.184211   11.0  ...    NaN    NaN        Por   \n",
      "28                    4.065789   17.0  ...  BRYAN   12.0          W   \n",
      "29                    4.592105    6.0  ...    NaN    NaN          C   \n",
      "..                         ...    ...  ...    ...    ...        ...   \n",
      "540                        NaN    NaN  ...    NaN    NaN        NaN   \n",
      "541                        NaN    NaN  ...    NaN    NaN        NaN   \n",
      "542                        NaN    NaN  ...    NaN    NaN        NaN   \n",
      "543                        NaN    NaN  ...    NaN    NaN        NaN   \n",
      "544                        NaN    NaN  ...    NaN    NaN        NaN   \n",
      "545                        NaN    NaN  ...    NaN    NaN        NaN   \n",
      "546                        NaN    NaN  ...    NaN    NaN        NaN   \n",
      "547                        NaN    NaN  ...    NaN    NaN        NaN   \n",
      "548                        NaN    NaN  ...    NaN    NaN        NaN   \n",
      "549                        NaN    NaN  ...    NaN    NaN        NaN   \n",
      "550                        NaN    NaN  ...    NaN    NaN        NaN   \n",
      "551                        NaN    NaN  ...    NaN    NaN        NaN   \n",
      "552                        NaN    NaN  ...    NaN    NaN        NaN   \n",
      "553                        NaN    NaN  ...    NaN    NaN        NaN   \n",
      "554                        NaN    NaN  ...    NaN    NaN        NaN   \n",
      "555                        NaN    NaN  ...    NaN    NaN        NaN   \n",
      "556                        NaN    NaN  ...    NaN    NaN        NaN   \n",
      "557                        NaN    NaN  ...    NaN    NaN        NaN   \n",
      "558                        NaN    NaN  ...    NaN    NaN        NaN   \n",
      "559                        NaN    NaN  ...    NaN    NaN        NaN   \n",
      "560                        NaN    NaN  ...    NaN    NaN        NaN   \n",
      "561                        NaN    NaN  ...    NaN    NaN        NaN   \n",
      "562                        NaN    NaN  ...    NaN    NaN        NaN   \n",
      "563                        NaN    NaN  ...    NaN    NaN        NaN   \n",
      "564                        NaN    NaN  ...    NaN    NaN        NaN   \n",
      "565                        NaN    NaN  ...    NaN    NaN        NaN   \n",
      "566                        NaN    NaN  ...    NaN    NaN        NaN   \n",
      "567                        NaN    NaN  ...    NaN    NaN        NaN   \n",
      "568                        NaN    NaN  ...    NaN    NaN        NaN   \n",
      "569                        NaN    NaN  ...    NaN    NaN        NaN   \n",
      "\n",
      "     MeanFantasyEvaluation    Id  R     Squadra Qt. A Qt. I  Diff.  \n",
      "0                 5.941860   513  D       Lazio    14    14      0  \n",
      "1                 5.968750   824  D      Verona     3     3      0  \n",
      "2                 5.700000  2865  D      Torino     8     8      0  \n",
      "3                 6.612903   662  D    Juventus    14    14      0  \n",
      "4                 6.779070   397  C      Napoli    13    14     -1  \n",
      "5                 6.346154   706  C      Torino    13    13      0  \n",
      "6                 6.083333   295  D       Inter    11    10      1  \n",
      "7                 5.625000   761  P   Sampdoria    11    11      0  \n",
      "8                 6.779412   183  A    Sassuolo    14    14      0  \n",
      "9                 6.177419   170  C  Fiorentina     6     6      0  \n",
      "10                5.690476   813  C     Udinese     5     5      0  \n",
      "11                5.800000  2285  D     Bologna     5     5      0  \n",
      "12                6.675676  2172  C     Udinese    11    11      0  \n",
      "13                6.730769  1870  C       Inter    15    15      0  \n",
      "14                6.600000  2802  C       Parma     8     8      0  \n",
      "15                6.375000   494  C   Sampdoria     5     5      0  \n",
      "16                6.781250  2719  A    Atalanta     9     9      0  \n",
      "17                6.166667   556  C      Torino    10    10      0  \n",
      "18                6.125000  2120  D       Inter     4     4      0  \n",
      "19                6.522727  2062  D       Lazio     6     6      0  \n",
      "20                6.851351   441  A      Torino    31    30      1  \n",
      "21                6.589744   557  C  Fiorentina    15    15      0  \n",
      "22                6.100000  2818  C       Milan    10    10      0  \n",
      "23                5.869565  2166  C    Juventus     8     8      0  \n",
      "24                6.000000   531  A    Sassuolo    18    18      0  \n",
      "25                6.115385  2205  C      Torino     8     8      0  \n",
      "26                5.857143  2104  D   Sampdoria     6     6      0  \n",
      "27                4.750000   316  P        SPAL     8     8      0  \n",
      "28                7.173077   184  C    Juventus    19    19      0  \n",
      "29                6.171875   264  C      Verona     9     9      0  \n",
      "..                     ...   ... ..         ...   ...   ...    ...  \n",
      "540               2.536529  4451  C     Brescia     1     1      0  \n",
      "541               2.536529  2828  C    Cagliari     1     1      0  \n",
      "542               2.536529  4353  C  Fiorentina     1     1      0  \n",
      "543               2.536529  4459  C       Genoa     1     1      0  \n",
      "544               2.536529  4383  C       Genoa     1     1      0  \n",
      "545               2.536529  4411  C       Inter     1     1      0  \n",
      "546               2.536529  4465  C    Juventus     1     1      0  \n",
      "547               2.536529  4349  C    Juventus     1     1      0  \n",
      "548               2.536529  4370  C    Juventus     1     1      0  \n",
      "549               2.536529  4364  C      Napoli     1     1      0  \n",
      "550               2.536529   666  C       Parma     1     1      0  \n",
      "551               2.536529  2852  C        Roma     1     1      0  \n",
      "552               2.536529  4486  C        SPAL     1     1      0  \n",
      "553               2.536529  4490  C      Torino     1     1      0  \n",
      "554               2.536529  2144  C     Udinese     1     1      0  \n",
      "555               2.536529  4499  C      Verona     1     1      0  \n",
      "556               2.536529  4436  A    Atalanta     1     1      0  \n",
      "557               2.536529  4359  A    Atalanta     1     1      0  \n",
      "558               2.536529  4368  A     Bologna     1     1      0  \n",
      "559               2.536529  4463  A       Inter     1     1      0  \n",
      "560               2.536529  2304  A       Inter     1     1      0  \n",
      "561               2.536529  4387  A       Parma     1     1      0  \n",
      "562               2.536529  2805  A       Parma     1     1      0  \n",
      "563               2.536529  4483  A     Bologna     1     1      0  \n",
      "564               2.536529  4508  A   Sampdoria     1     1      0  \n",
      "565               2.536529  4371  A    Sassuolo     1     1      0  \n",
      "566               2.536529  4346  A      Torino     1     1      0  \n",
      "567               2.536529  4489  A      Torino     1     1      0  \n",
      "568               2.536529  2794  A     Udinese     1     1      0  \n",
      "569               2.536529   767  A      Verona     1     1      0  \n",
      "\n",
      "[570 rows x 22 columns]\n"
     ]
    }
   ],
   "source": [
    "print(players)"
   ]
  },
  {
   "cell_type": "code",
   "execution_count": 4,
   "metadata": {
    "collapsed": true
   },
   "outputs": [],
   "source": [
    "from amplpy import AMPL,Environment\n",
    "ampl = AMPL(Environment('/home/asino/Downloads/ampl_linux-intel64/'))\n",
    "ampl.setOption(\"solver\",\"/home/asino/Downloads/ampl_linux-intel64/cplex\")"
   ]
  },
  {
   "cell_type": "code",
   "execution_count": 5,
   "metadata": {},
   "outputs": [
    {
     "name": "stdout",
     "output_type": "stream",
     "text": [
      "Warning:\n",
      "\tantasy-auction.mod\n",
      "\tline 27 offset 663\n",
      "\tCaution: 0-dimensional slice\n",
      "The license for this version of CPLEX will expire in 2.5 days.\n",
      "CPLEX 12.8.0.0: optimal integer solution within mipgap or absmipgap; objective 89.97931007\n",
      "6266 MIP simplex iterations\n",
      "0 branch-and-bound nodes\n",
      "absmipgap = 0.00888817, relmipgap = 9.87801e-05\n"
     ]
    }
   ],
   "source": [
    "ampl.read(\"fantasy-auction.mod\")\n",
    "ampl.readData(\"fantasy-auction.dat\")\n",
    "ampl.solve()\n"
   ]
  },
  {
   "cell_type": "code",
   "execution_count": 6,
   "metadata": {
    "collapsed": true
   },
   "outputs": [],
   "source": [
    "buy=ampl.getVariable(\"putPlayerInSlot\")\n",
    "solution=buy.getValues().toDict()"
   ]
  },
  {
   "cell_type": "code",
   "execution_count": 7,
   "metadata": {},
   "outputs": [
    {
     "name": "stdout",
     "output_type": "stream",
     "text": [
      "{1.0: None, 2.0: None, 3.0: None, 4.0: None, 5.0: None, 6.0: None, 7.0: None, 8.0: None}\n"
     ]
    }
   ],
   "source": [
    "bidders=ampl.getSet(\"Bidders\")\n",
    "bidders=bidders.getValues().toDict()\n",
    "print(bidders)"
   ]
  },
  {
   "cell_type": "code",
   "execution_count": 8,
   "metadata": {},
   "outputs": [],
   "source": [
    "teams=[]\n",
    "for bidder,val in bidders.items():\n",
    "    teams.append([])\n",
    "for key,val in solution.items():\n",
    "    if val>0.0:\n",
    "        elems=list(key)\n",
    "        teams[int(elems[0])-1].append(elems[1])\n",
    "    #print(key,val)\n",
    "    "
   ]
  },
  {
   "cell_type": "code",
   "execution_count": 9,
   "metadata": {},
   "outputs": [],
   "source": [
    "for i in range(8):\n",
    "    #print(teams[i])\n",
    "    #print(i)\n",
    "    pass"
   ]
  },
  {
   "cell_type": "code",
   "execution_count": 10,
   "metadata": {},
   "outputs": [],
   "source": [
    "playersPerf=ampl.getParameter(\"performance\")\n",
    "playersPerf=playersPerf.getValues().toDict()\n",
    "#print(playersPerf)"
   ]
  },
  {
   "cell_type": "code",
   "execution_count": 11,
   "metadata": {
    "collapsed": true
   },
   "outputs": [],
   "source": [
    "teamPerformances=[]\n",
    "for team in teams:\n",
    "    perf=0\n",
    "    for player in team:\n",
    "        perf+=playersPerf[player]\n",
    "    teamPerformances.append(perf)"
   ]
  },
  {
   "cell_type": "code",
   "execution_count": 12,
   "metadata": {},
   "outputs": [
    {
     "name": "stdout",
     "output_type": "stream",
     "text": [
      "[156.30076722880742, 156.75965389697512, 157.04238804908312, 156.99648602864428, 157.25659676174382, 156.75932188108416, 157.3455841243897, 157.58174594931566]\n"
     ]
    }
   ],
   "source": [
    "print(teamPerformances)"
   ]
  },
  {
   "cell_type": "code",
   "execution_count": 27,
   "metadata": {},
   "outputs": [
    {
     "name": "stdout",
     "output_type": "stream",
     "text": [
      "Index(['A', 'C', 'D', 'P'], dtype='object', name='R')\n",
      "5.0894486212604\n",
      "0.37693789302819286\n",
      "55.26993629100355\n"
     ]
    }
   ],
   "source": [
    "means=players.groupby(\"R\").mean()\n",
    "print(means.index)\n",
    "print(means.loc[\"C\"][\"MeanFantasyEvaluation\"])\n",
    "sumOfMeans=0\n",
    "roles={\"A\":6,\"C\":8,\"P\":3,\"D\":8}\n",
    "for role,nr in roles.items():\n",
    "    sumOfMeans+=means.loc[role][\"MedianFantasyEvaluation\"]*nr\n",
    "    #sumOfMeans+=6*nr\n",
    "\n",
    "normalizedPerf=max(teamPerformances)-sumOfMeans\n",
    "print(normalizedPerf/24)\n",
    "budget=500\n",
    "unitCostOfPerf=budget/normalizedPerf\n",
    "print(unitCostOfPerf)"
   ]
  },
  {
   "cell_type": "code",
   "execution_count": 17,
   "metadata": {},
   "outputs": [
    {
     "name": "stdout",
     "output_type": "stream",
     "text": [
      "['ANSALDI', 'BERNARDESCHI', 'BONAVENTURA', 'CACCIATORE', 'CEPPITELLI', 'CICIRETTI', 'CORREA', 'DESTRO', 'DURMISI', 'FAZIO', 'HIGUAIN', 'ILICIC', 'INGELSSON', 'LIROLA', 'LUISALBERTO', 'MARIORUI', 'MEITE', 'MERTENS', 'NUYTINCK', 'RAFAEL', 'RAMIREZ', 'REINA', 'SANTANDER', 'TOLOI']\n",
      "['ALLAN', 'BARROW', 'CALABRIA', 'CONTI', 'CRISTIANORONALDO', 'DIJKS', 'DZEKO', 'FLORENZI', 'GHOULAM', 'GOSENS', 'ICARDI', 'KARNEZIS', 'LINETTY', 'LYKOGIANNIS', 'MARUSIC', 'PALOMINO', 'PASTORE', 'PEGOLO', 'PEROTTI', 'PESSINA', 'PETAGNA', 'PUSSETTO', 'SORIANO', 'UNDER']\n",
      "['BABACAR', 'BARELLA', 'BARILLA', 'CALHANOGLU', 'CAPUTO', 'CIONEK', 'DACOSTA', 'DELLORCO', 'DEVRIJ', 'DYBALA', 'IMMOBILE', 'KRUNIC', 'LULIC', 'MAKSIMOVIC', 'MANDZUKIC', 'MANOLAS', 'MATUIDI', 'PALOSCHI', 'PEZZELLAGER', 'RANOCCHIA', 'SAPONARA', 'SENSI', 'SZCZESNY', 'ZAPATAC']\n",
      "['ALEXSANDRO', 'AUDERO', 'BREMER', 'CASTAGNE', 'CUADRADO', 'DALESSANDRO', 'DIFRANCESCOF', 'DIMARCO', 'GOLDANIGA', 'GOMEZA', 'GRASSI', 'INGLESE', 'JOAOPEDRO', 'KHEDIRA', 'KLUIVERT', 'LAPADULA', 'MILENKOVIC', 'PJANIC', 'POLITANO', 'RUGANI', 'SIMEONE', 'TERRACCIANO', 'THEREAU', 'TONELLI']\n",
      "['ASAMOAH', 'BARRETO', 'CALDARA', 'CANDREVA', 'CRISCITO', 'DAMBROSIO', 'DESILVESTRI', 'DOUGLASCOSTA', 'EDERA', 'FARAGO', 'GHIGLIONE', 'KOUAME', 'LASAGNA', 'LUCASLEIVA', 'MAGNANI', 'MILINKOVICSAVIC', 'OPOKU', 'PANDEV', 'PERIN', 'PJACA', 'QUAGLIARELLA', 'SIRIGU', 'SUSO', 'VECINO']\n",
      "['BENASSI', 'BRIGNOLA', 'BROZOVIC', 'CASTRO', 'CHIELLINI', 'DESCIGLIO', 'EKDAL', 'FAVILLI', 'FLOCCARI', 'HATEBOER', 'LAXALT', 'LUKAKUJ', 'MANCINIG', 'MILIK', 'PAROLO', 'PATRIC', 'PIATEK', 'PINSOGLIO', 'ROMAGNOLIA', 'ROMULO', 'SILIGARDI', 'SKORUPSKI', 'STRINIC', 'VERETOUT']\n",
      "['BIRSA', 'BOATENG', 'BRUNOALVES', 'CAICEDO', 'CALLEJON', 'CHIESA', 'CRISTANTE', 'DEMAIO', 'DEPAUL', 'FERRARIG', 'FREULER', 'GAGLIOLO', 'HANDANOVIC', 'IAGOFALQUE', 'KOULIBALY', 'LAZZARIM', 'LUKAKUR', 'LYANCO', 'NKOULOU', 'PALACIO', 'PAVOLETTI', 'STRAKOSHA', 'TROOSTEKONG', 'VIVIANI']\n",
      "['BARAK', 'BASTONI', 'BASTOS', 'BELOTTI', 'BONIFAZI', 'CAPRARI', 'DEFREL', 'DILORENZO', 'GERVINHO', 'INSIGNE', 'IZZO', 'JANKTO', 'KESSIE', 'KOLAROV', 'MASIELLOA', 'MERET', 'NAINGGOLAN', 'PASALIC', 'SANDRO', 'SEPE', 'SKRINIAR', 'VERDI', 'ZAPATAD', 'ZIELINSKI']\n"
     ]
    }
   ],
   "source": [
    "for team in teams:\n",
    "    print(team)"
   ]
  },
  {
   "cell_type": "code",
   "execution_count": null,
   "metadata": {
    "collapsed": true
   },
   "outputs": [],
   "source": [
    "def computePriceOfPlayer(playerRow):\n",
    "    unitCostOfPerf=55.26993629100355\n",
    "    medians=players.groupby(\"R\").median()"
   ]
  }
 ],
 "metadata": {
  "kernelspec": {
   "display_name": "Python 3",
   "language": "python",
   "name": "python3"
  },
  "language_info": {
   "codemirror_mode": {
    "name": "ipython",
    "version": 3
   },
   "file_extension": ".py",
   "mimetype": "text/x-python",
   "name": "python",
   "nbconvert_exporter": "python",
   "pygments_lexer": "ipython3",
   "version": "3.6.9"
  }
 },
 "nbformat": 4,
 "nbformat_minor": 2
}
