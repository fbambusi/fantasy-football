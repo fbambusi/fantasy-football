{
 "cells": [
  {
   "cell_type": "code",
   "execution_count": 1,
   "metadata": {
    "collapsed": true
   },
   "outputs": [],
   "source": [
    "import pandas as pd"
   ]
  },
  {
   "cell_type": "code",
   "execution_count": 2,
   "metadata": {
    "collapsed": true
   },
   "outputs": [],
   "source": [
    "from amplpy import AMPL,Environment\n",
    "ampl = AMPL(Environment('/home/asino/Downloads/ampl_linux-intel64/'))\n",
    "ampl.setOption(\"solver\",\"/home/asino/Downloads/ampl_linux-intel64/cplex\")"
   ]
  },
  {
   "cell_type": "code",
   "execution_count": 3,
   "metadata": {},
   "outputs": [
    {
     "name": "stdout",
     "output_type": "stream",
     "text": [
      "Warning:\n",
      "\tonline-auction.mod\n",
      "\tline 37 offset 1108\n",
      "\tCaution: 0-dimensional slice\n",
      "The license for this version of CPLEX will expire in 4.3 days.\n",
      "CPLEX 12.8.0.0: optimal integer solution within mipgap or absmipgap; objective 83.03808393\n",
      "6012 MIP simplex iterations\n",
      "642 branch-and-bound nodes\n",
      "absmipgap = 0.0058787, relmipgap = 7.07952e-05\n"
     ]
    }
   ],
   "source": [
    "ampl.read(\"online-auction.mod\")\n",
    "ampl.readData(\"fantasy-auction-mantra-online.dat\")\n",
    "ampl.solve()\n"
   ]
  },
  {
   "cell_type": "code",
   "execution_count": 19,
   "metadata": {},
   "outputs": [],
   "source": [
    "buy=ampl.getVariable(\"buy\")\n",
    "cost=ampl.getParameter(\"cost\")\n",
    "moduleChosen=ampl.getVariable(\"bidderChoosesModule\")\n",
    "solution=buy.getValues().toDict()\n",
    "costs=cost.getValues().toDict()\n",
    "modules=moduleChosen.getValues().toDict()"
   ]
  },
  {
   "cell_type": "code",
   "execution_count": 17,
   "metadata": {},
   "outputs": [
    {
     "name": "stdout",
     "output_type": "stream",
     "text": [
      "ACERBI 39.66714771284779\n",
      "BARELLA 32.7672178527258\n",
      "BERISHAE 1.0\n",
      "CHIESA 44.7682376284661\n",
      "CRISTIANORONALDO 99.1702745533213\n",
      "GOMEZA 50.8649843671469\n",
      "HANDANOVIC 29.389469124816397\n",
      "HERNANDEZT 1.0\n",
      "IGOR 1.0\n",
      "IZZO 41.974783627056\n",
      "KOULIBALY 35.52456375306\n",
      "LUKIC 1.0\n",
      "MEITE 32.113989478718096\n",
      "MILINKOVICSAVIC 40.1304754368859\n",
      "MOROSINI 1.0\n",
      "RODRIGUEZR 1.0\n",
      "ROSSETTINI 1.0\n",
      "SALAMON 1.0\n",
      "SANDRO 1.0\n",
      "SUSO 41.958370853839796\n",
      "TONALI 1.0\n",
      "VERDI 1.61249173359262\n"
     ]
    }
   ],
   "source": [
    "for moduleName,taken in modules.items():\n",
    "    if taken>0.5:\n",
    "        print(\"Module: {}\".format(moduleName))\n",
    "for player,val in solution.items():\n",
    "    if val>0.5:\n",
    "        message=\"{} {}\".format(player,costs[player])\n",
    "        print(message)"
   ]
  }
 ],
 "metadata": {
  "kernelspec": {
   "display_name": "Python 3",
   "language": "python",
   "name": "python3"
  },
  "language_info": {
   "codemirror_mode": {
    "name": "ipython",
    "version": 3
   },
   "file_extension": ".py",
   "mimetype": "text/x-python",
   "name": "python",
   "nbconvert_exporter": "python",
   "pygments_lexer": "ipython3",
   "version": "3.6.9"
  }
 },
 "nbformat": 4,
 "nbformat_minor": 2
}
