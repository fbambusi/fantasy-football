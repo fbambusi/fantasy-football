{
 "cells": [
  {
   "cell_type": "code",
   "execution_count": 1,
   "metadata": {
    "collapsed": true
   },
   "outputs": [],
   "source": [
    "import pandas as pd"
   ]
  },
  {
   "cell_type": "code",
   "execution_count": 2,
   "metadata": {
    "collapsed": true
   },
   "outputs": [],
   "source": [
    "from amplpy import AMPL,Environment\n",
    "ampl = AMPL(Environment('/home/asino/Downloads/ampl_linux-intel64/'))\n",
    "ampl.setOption(\"solver\",\"/home/asino/Downloads/ampl_linux-intel64/cplex\")\n",
    "ampl.setOption(\"absmipgap\",1)\n",
    "\n"
   ]
  },
  {
   "cell_type": "code",
   "execution_count": 3,
   "metadata": {
    "collapsed": true
   },
   "outputs": [],
   "source": [
    "ME=\"me\""
   ]
  },
  {
   "cell_type": "code",
   "execution_count": 4,
   "metadata": {},
   "outputs": [
    {
     "name": "stdout",
     "output_type": "stream",
     "text": [
      "{'CRISCITO': 1, 'STRAKOSHA': 0, 'ZIELINSKI': 0, 'KURTIC': 0, 'ZAPATAD': 0, 'IZZO': 0, 'NKOULOU': 1, 'KOULIBALY': 0, 'POLITANO': 1, 'KESSIE': 0, 'BONIFAZI': 0, 'MURRU': 0, 'RADU': 0, 'QUAGLIARELLA': 0, 'VERETOUT': 0, 'GOMEZA': 0, 'BONUCCI': 0, 'BERISHAE': 0, 'FLORENZI': 0, 'MARTINEZL': 0, 'CHIELLINI': 0, 'MILENKOVIC': 0, 'SUSO': 0, 'MANDRAGORA': 0, 'NANDEZ': 0, 'IAGOFALQUE': 0, 'BALOTELLI': 0, 'PROTO': 0}\n"
     ]
    }
   ],
   "source": [
    "def fillDictOfBrokenPlayers():\n",
    "    bought=pd.read_csv(\"availability-of-players.csv\")\n",
    "    dictOfMyPlayers={}\n",
    "    dictOfBrokenPlayers={}\n",
    "    for idx,player in bought.iterrows():\n",
    "        if player[\"Owner\"]==ME:\n",
    "            if player[\"CanPlay\"]==0:\n",
    "                dictOfBrokenPlayers[player[\"Name\"]]=1\n",
    "            else:\n",
    "                dictOfBrokenPlayers[player[\"Name\"]]=0\n",
    "    return dictOfBrokenPlayers\n",
    "\n",
    "dictOfBrokenPlayers=fillDictOfBrokenPlayers()\n",
    "print(dictOfBrokenPlayers)   "
   ]
  },
  {
   "cell_type": "code",
   "execution_count": 5,
   "metadata": {},
   "outputs": [
    {
     "name": "stdout",
     "output_type": "stream",
     "text": [
      "Warning:\n",
      "\t08-market-proposals.mod\n",
      "\tline 57 offset 1710\n",
      "\tCaution: 0-dimensional slice\n",
      "Warning:\n",
      "\t08-market-proposals.mod\n",
      "\tline 61 offset 1957\n",
      "\tCaution: 0-dimensional slice\n"
     ]
    }
   ],
   "source": [
    "ampl.read(\"08-market-proposals.mod\")\n",
    "ampl.readData(\"market-mantra-online.dat\")\n",
    "setOfPlayers=ampl.getSet(\"Players\")\n",
    "#setOfPlayers.setValues([\"CIAO\"])"
   ]
  },
  {
   "cell_type": "code",
   "execution_count": 6,
   "metadata": {},
   "outputs": [
    {
     "name": "stdout",
     "output_type": "stream",
     "text": [
      "Error:\n",
      "\tne -1 offset -1\n",
      "\tError executing \"solve\" command:\n",
      "\terror processing param ownedByMe:\n",
      "\t\t85 invalid subscripts discarded:\n",
      "\t\townedByMe['DZEKO']\n",
      "\t\townedByMe['HIGUAIN']\n",
      "\t\townedByMe['BELOTTI']\n",
      "\t\tand 82 more.\n",
      "CPLEX 12.8.0.0: optimal integer solution; objective 90.16883791\n",
      "1438 MIP simplex iterations\n",
      "0 branch-and-bound nodes\n"
     ]
    }
   ],
   "source": [
    "def suggestTeam(dictOfBrokenPlayers):\n",
    "    plas=ampl.getSet(\"Players\").getValues()\n",
    "    valuesForBrokenPlayersAmpl={}\n",
    "    for name in plas:\n",
    "        name=name[0]\n",
    "        #print(name)\n",
    "        valuesForBrokenPlayersAmpl[name]=0\n",
    "    for player,value in dictOfBrokenPlayers.items():\n",
    "        valuesForBrokenPlayersAmpl[player]=value\n",
    "    ampl.getParameter(\"broken\").setValues(valuesForBrokenPlayersAmpl)\n",
    "        \n",
    "        \n",
    "        \n",
    "    \n",
    "    ampl.solve()\n",
    "suggestTeam(dictOfBrokenPlayers)\n"
   ]
  },
  {
   "cell_type": "code",
   "execution_count": 7,
   "metadata": {
    "collapsed": true,
    "scrolled": true
   },
   "outputs": [],
   "source": [
    "def analyseSolution():\n",
    "    putPlayerInSlot=ampl.getVariable(\"iPutPlayerInSlot\")\n",
    "    cost=ampl.getParameter(\"cost\")\n",
    "    pfs=ampl.getParameter(\"performance\")\n",
    "    moduleChosen=ampl.getVariable(\"iBidderChoosesModule\")\n",
    "    globalPerf=ampl.getVariable(\"minPerf\").value()\n",
    "    \n",
    "    roles=ampl.getSet(\"CompatibilityPlayerRole\").getValues().toDict()\n",
    "    slots=ampl.getSet(\"CompatibilitySlotRole\").getValues().toDict()\n",
    "    solution=putPlayerInSlot.getValues().toDict()\n",
    "    costs=cost.getValues().toDict()\n",
    "    pfs=pfs.getValues().toDict()\n",
    "    modules=moduleChosen.getValues().toDict()\n",
    "    moduleUsed=\"AAA\"\n",
    "    \n",
    "\n",
    "    for moduleName,taken in modules.items():\n",
    "        if taken>0.5:\n",
    "            #print(\"Module: {}\\n\\n\".format(moduleName))\n",
    "            moduleUsed=moduleName\n",
    "    myPls={}\n",
    "    for key,val in solution.items():\n",
    "\n",
    "        if key[0]==moduleUsed:\n",
    "            if val>0.5:\n",
    "                myPls[key[2]]=key[1]\n",
    "                #print(key,val)\n",
    "    rolesA={}\n",
    "\n",
    "    #To show the roles of each player\n",
    "    for key,val in roles.items():\n",
    "        if key[0] not in rolesA.keys():\n",
    "            rolesA[key[0]]=[]\n",
    "        rolesA[key[0]].append(key[1])\n",
    "\n",
    "\n",
    "    mappingSlotNumberToPossibleRoles={}\n",
    "    for key,val in slots.items():\n",
    "        if key[0]==moduleUsed:\n",
    "\n",
    "            slotNr=key[1]\n",
    "            role=key[2]\n",
    "            if slotNr not in mappingSlotNumberToPossibleRoles.keys():\n",
    "                mappingSlotNumberToPossibleRoles[slotNr]=[]\n",
    "            mappingSlotNumberToPossibleRoles[slotNr].append(role)\n",
    "\n",
    "    emptySlotsInField=0\n",
    "    emptySlotsOutside=0\n",
    "    message=\"\"\n",
    "    for slotNr,possibleRoles in mappingSlotNumberToPossibleRoles.items():\n",
    "        if slotNr<=11:\n",
    "            privilege=\"TOP\"\n",
    "        else:\n",
    "            privilege=\"NO\"\n",
    "        try:\n",
    "            message+=(\"{} plays  in slot {}  {}\\n\".format(myPls[slotNr], possibleRoles,privilege))\n",
    "        except KeyError:\n",
    "            if privilege==\"TOP\":\n",
    "                emptySlotsInField+=1\n",
    "            else:\n",
    "                emptySlotsOutside+=1\n",
    "    return globalPerf,moduleUsed,message,emptySlotsInField,emptySlotsOutside\n",
    "    "
   ]
  },
  {
   "cell_type": "code",
   "execution_count": 8,
   "metadata": {},
   "outputs": [
    {
     "name": "stdout",
     "output_type": "stream",
     "text": [
      "CPLEX 12.8.0.0: optimal integer solution; objective 89.89438114\n",
      "35707 MIP simplex iterations\n",
      "988 branch-and-bound nodes\n"
     ]
    },
    {
     "ename": "TypeError",
     "evalue": "An entity called iBidderChoosesModule cannot be found.",
     "output_type": "error",
     "traceback": [
      "\u001b[0;31m---------------------------------------------------------------------------\u001b[0m",
      "\u001b[0;31mTypeError\u001b[0m                                 Traceback (most recent call last)",
      "\u001b[0;32m<ipython-input-8-4114e344f915>\u001b[0m in \u001b[0;36m<module>\u001b[0;34m()\u001b[0m\n\u001b[1;32m     10\u001b[0m                 \u001b[0mbroks\u001b[0m\u001b[0;34m[\u001b[0m\u001b[0mp2\u001b[0m\u001b[0;34m]\u001b[0m\u001b[0;34m=\u001b[0m\u001b[0;36m1\u001b[0m\u001b[0;34m\u001b[0m\u001b[0;34m\u001b[0m\u001b[0m\n\u001b[1;32m     11\u001b[0m                 \u001b[0msuggestTeam\u001b[0m\u001b[0;34m(\u001b[0m\u001b[0mbroks\u001b[0m\u001b[0;34m)\u001b[0m\u001b[0;34m\u001b[0m\u001b[0;34m\u001b[0m\u001b[0m\n\u001b[0;32m---> 12\u001b[0;31m                 \u001b[0mdictOfEffects\u001b[0m\u001b[0;34m[\u001b[0m\u001b[0;34m(\u001b[0m\u001b[0mplayer\u001b[0m\u001b[0;34m,\u001b[0m\u001b[0mp2\u001b[0m\u001b[0;34m)\u001b[0m\u001b[0;34m]\u001b[0m\u001b[0;34m=\u001b[0m\u001b[0;34m(\u001b[0m\u001b[0manalyseSolution\u001b[0m\u001b[0;34m(\u001b[0m\u001b[0;34m)\u001b[0m\u001b[0;34m)\u001b[0m\u001b[0;34m\u001b[0m\u001b[0;34m\u001b[0m\u001b[0m\n\u001b[0m\u001b[1;32m     13\u001b[0m \u001b[0;31m#suggestTeam({},{})\u001b[0m\u001b[0;34m\u001b[0m\u001b[0;34m\u001b[0m\u001b[0;34m\u001b[0m\u001b[0m\n",
      "\u001b[0;32m<ipython-input-7-e291c9bcaf99>\u001b[0m in \u001b[0;36manalyseSolution\u001b[0;34m()\u001b[0m\n\u001b[1;32m      3\u001b[0m     \u001b[0mcost\u001b[0m\u001b[0;34m=\u001b[0m\u001b[0mampl\u001b[0m\u001b[0;34m.\u001b[0m\u001b[0mgetParameter\u001b[0m\u001b[0;34m(\u001b[0m\u001b[0;34m\"cost\"\u001b[0m\u001b[0;34m)\u001b[0m\u001b[0;34m\u001b[0m\u001b[0;34m\u001b[0m\u001b[0m\n\u001b[1;32m      4\u001b[0m     \u001b[0mpfs\u001b[0m\u001b[0;34m=\u001b[0m\u001b[0mampl\u001b[0m\u001b[0;34m.\u001b[0m\u001b[0mgetParameter\u001b[0m\u001b[0;34m(\u001b[0m\u001b[0;34m\"performance\"\u001b[0m\u001b[0;34m)\u001b[0m\u001b[0;34m\u001b[0m\u001b[0;34m\u001b[0m\u001b[0m\n\u001b[0;32m----> 5\u001b[0;31m     \u001b[0mmoduleChosen\u001b[0m\u001b[0;34m=\u001b[0m\u001b[0mampl\u001b[0m\u001b[0;34m.\u001b[0m\u001b[0mgetVariable\u001b[0m\u001b[0;34m(\u001b[0m\u001b[0;34m\"iBidderChoosesModule\"\u001b[0m\u001b[0;34m)\u001b[0m\u001b[0;34m\u001b[0m\u001b[0;34m\u001b[0m\u001b[0m\n\u001b[0m\u001b[1;32m      6\u001b[0m     \u001b[0mglobalPerf\u001b[0m\u001b[0;34m=\u001b[0m\u001b[0mampl\u001b[0m\u001b[0;34m.\u001b[0m\u001b[0mgetVariable\u001b[0m\u001b[0;34m(\u001b[0m\u001b[0;34m\"minPerf\"\u001b[0m\u001b[0;34m)\u001b[0m\u001b[0;34m.\u001b[0m\u001b[0mvalue\u001b[0m\u001b[0;34m(\u001b[0m\u001b[0;34m)\u001b[0m\u001b[0;34m\u001b[0m\u001b[0;34m\u001b[0m\u001b[0m\n\u001b[1;32m      7\u001b[0m \u001b[0;34m\u001b[0m\u001b[0m\n",
      "\u001b[0;32m~/.local/lib/python3.6/site-packages/amplpy/ampl.py\u001b[0m in \u001b[0;36mgetVariable\u001b[0;34m(self, name)\u001b[0m\n\u001b[1;32m    185\u001b[0m         return lock_and_call(\n\u001b[1;32m    186\u001b[0m             \u001b[0;32mlambda\u001b[0m\u001b[0;34m:\u001b[0m \u001b[0mVariable\u001b[0m\u001b[0;34m(\u001b[0m\u001b[0mself\u001b[0m\u001b[0;34m.\u001b[0m\u001b[0m_impl\u001b[0m\u001b[0;34m.\u001b[0m\u001b[0mgetVariable\u001b[0m\u001b[0;34m(\u001b[0m\u001b[0mname\u001b[0m\u001b[0;34m)\u001b[0m\u001b[0;34m)\u001b[0m\u001b[0;34m,\u001b[0m\u001b[0;34m\u001b[0m\u001b[0;34m\u001b[0m\u001b[0m\n\u001b[0;32m--> 187\u001b[0;31m             \u001b[0mself\u001b[0m\u001b[0;34m.\u001b[0m\u001b[0m_lock\u001b[0m\u001b[0;34m\u001b[0m\u001b[0;34m\u001b[0m\u001b[0m\n\u001b[0m\u001b[1;32m    188\u001b[0m         )\n\u001b[1;32m    189\u001b[0m \u001b[0;34m\u001b[0m\u001b[0m\n",
      "\u001b[0;32m~/.local/lib/python3.6/site-packages/amplpy/utils.py\u001b[0m in \u001b[0;36mlock_and_call\u001b[0;34m(call, lock)\u001b[0m\n\u001b[1;32m     49\u001b[0m     \u001b[0mlock\u001b[0m\u001b[0;34m.\u001b[0m\u001b[0macquire\u001b[0m\u001b[0;34m(\u001b[0m\u001b[0;34m)\u001b[0m\u001b[0;34m\u001b[0m\u001b[0;34m\u001b[0m\u001b[0m\n\u001b[1;32m     50\u001b[0m     \u001b[0;32mtry\u001b[0m\u001b[0;34m:\u001b[0m\u001b[0;34m\u001b[0m\u001b[0;34m\u001b[0m\u001b[0m\n\u001b[0;32m---> 51\u001b[0;31m         \u001b[0mresult\u001b[0m \u001b[0;34m=\u001b[0m \u001b[0mcall\u001b[0m\u001b[0;34m(\u001b[0m\u001b[0;34m)\u001b[0m\u001b[0;34m\u001b[0m\u001b[0;34m\u001b[0m\u001b[0m\n\u001b[0m\u001b[1;32m     52\u001b[0m     \u001b[0;32mexcept\u001b[0m \u001b[0mException\u001b[0m\u001b[0;34m:\u001b[0m\u001b[0;34m\u001b[0m\u001b[0;34m\u001b[0m\u001b[0m\n\u001b[1;32m     53\u001b[0m         \u001b[0mlock\u001b[0m\u001b[0;34m.\u001b[0m\u001b[0mrelease\u001b[0m\u001b[0;34m(\u001b[0m\u001b[0;34m)\u001b[0m\u001b[0;34m\u001b[0m\u001b[0;34m\u001b[0m\u001b[0m\n",
      "\u001b[0;32m~/.local/lib/python3.6/site-packages/amplpy/ampl.py\u001b[0m in \u001b[0;36m<lambda>\u001b[0;34m()\u001b[0m\n\u001b[1;32m    184\u001b[0m         \"\"\"\n\u001b[1;32m    185\u001b[0m         return lock_and_call(\n\u001b[0;32m--> 186\u001b[0;31m             \u001b[0;32mlambda\u001b[0m\u001b[0;34m:\u001b[0m \u001b[0mVariable\u001b[0m\u001b[0;34m(\u001b[0m\u001b[0mself\u001b[0m\u001b[0;34m.\u001b[0m\u001b[0m_impl\u001b[0m\u001b[0;34m.\u001b[0m\u001b[0mgetVariable\u001b[0m\u001b[0;34m(\u001b[0m\u001b[0mname\u001b[0m\u001b[0;34m)\u001b[0m\u001b[0;34m)\u001b[0m\u001b[0;34m,\u001b[0m\u001b[0;34m\u001b[0m\u001b[0;34m\u001b[0m\u001b[0m\n\u001b[0m\u001b[1;32m    187\u001b[0m             \u001b[0mself\u001b[0m\u001b[0;34m.\u001b[0m\u001b[0m_lock\u001b[0m\u001b[0;34m\u001b[0m\u001b[0;34m\u001b[0m\u001b[0m\n\u001b[1;32m    188\u001b[0m         )\n",
      "\u001b[0;31mTypeError\u001b[0m: An entity called iBidderChoosesModule cannot be found."
     ]
    }
   ],
   "source": [
    "pls=dictOfBrokenPlayers.keys()\n",
    "dictOfEffects={}\n",
    "solidPlayers=[\"STRAKOSHA\",\"BERISHAE\",\"IZZO\"]\n",
    "for player in pls:\n",
    "    for p2 in pls:\n",
    "        if player >p2:\n",
    "            if player not in solidPlayers and p2 not in solidPlayers:\n",
    "                broks=fillDictOfBrokenPlayers()\n",
    "                broks[player]=1\n",
    "                broks[p2]=1\n",
    "                suggestTeam(broks)\n",
    "                dictOfEffects[(player,p2)]=(analyseSolution())\n",
    "#suggestTeam({},{})"
   ]
  },
  {
   "cell_type": "code",
   "execution_count": null,
   "metadata": {
    "collapsed": true
   },
   "outputs": [],
   "source": [
    "couples=dictOfEffects.keys()\n",
    "cp=sorted(couples,key=lambda k:dictOfEffects[k][0])\n",
    "for i in range(10):\n",
    "    print(cp[i],dictOfEffects[cp[i]][0])\n",
    "    #print(dictOfEffects[cp[i]][2])\n",
    "    #break"
   ]
  }
 ],
 "metadata": {
  "kernelspec": {
   "display_name": "Python 3",
   "language": "python",
   "name": "python3"
  },
  "language_info": {
   "codemirror_mode": {
    "name": "ipython",
    "version": 3
   },
   "file_extension": ".py",
   "mimetype": "text/x-python",
   "name": "python",
   "nbconvert_exporter": "python",
   "pygments_lexer": "ipython3",
   "version": "3.6.9"
  }
 },
 "nbformat": 4,
 "nbformat_minor": 2
}
