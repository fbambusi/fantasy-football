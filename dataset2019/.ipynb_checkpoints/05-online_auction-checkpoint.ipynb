{
 "cells": [
  {
   "cell_type": "code",
   "execution_count": 1,
   "metadata": {
    "collapsed": true
   },
   "outputs": [],
   "source": [
    "import pandas as pd"
   ]
  },
  {
   "cell_type": "code",
   "execution_count": 2,
   "metadata": {
    "collapsed": true
   },
   "outputs": [],
   "source": [
    "from amplpy import AMPL,Environment\n",
    "ampl = AMPL(Environment('/home/asino/Downloads/ampl_linux-intel64/'))\n",
    "ampl.setOption(\"solver\",\"/home/asino/Downloads/ampl_linux-intel64/cplex\")"
   ]
  },
  {
   "cell_type": "code",
   "execution_count": 3,
   "metadata": {
    "collapsed": true
   },
   "outputs": [],
   "source": [
    "ME=\"me\""
   ]
  },
  {
   "cell_type": "code",
   "execution_count": 4,
   "metadata": {},
   "outputs": [
    {
     "name": "stdout",
     "output_type": "stream",
     "text": [
      "            Price\n",
      "Owner            \n",
      "bryan         415\n",
      "fedeg          51\n",
      "fedemiglia    328\n",
      "gatti         428\n",
      "marco         342\n",
      "me            387\n",
      "na              7\n",
      "            Name  Price\n",
      "Owner                  \n",
      "bryan         13     13\n",
      "fedeg          1      1\n",
      "fedemiglia    10     10\n",
      "gatti         16     16\n",
      "marco         19     19\n",
      "me            17     17\n",
      "na             7      7\n"
     ]
    }
   ],
   "source": [
    "bought=pd.read_csv(\"auction.csv\")\n",
    "dictOfMyPlayers={}\n",
    "dictOfPlayersBelongingToOtherBidders={}\n",
    "for idx,player in bought.iterrows():\n",
    "    if player[\"Owner\"]==ME:\n",
    "        dictOfMyPlayers[player[\"Name\"]]=player[\"Price\"]\n",
    "    else:\n",
    "        dictOfPlayersBelongingToOtherBidders[player[\"Name\"]]=player[\"Price\"]\n",
    "print(bought.groupby(\"Owner\").sum())\n",
    "print(bought.groupby(\"Owner\").count())"
   ]
  },
  {
   "cell_type": "code",
   "execution_count": 5,
   "metadata": {},
   "outputs": [
    {
     "name": "stdout",
     "output_type": "stream",
     "text": [
      "Warning:\n",
      "\tonline-auction.mod\n",
      "\tline 39 offset 1150\n",
      "\tCaution: 0-dimensional slice\n"
     ]
    }
   ],
   "source": [
    "ampl.read(\"online-auction.mod\")\n",
    "ampl.readData(\"fantasy-auction-mantra-online.dat\")"
   ]
  },
  {
   "cell_type": "code",
   "execution_count": 6,
   "metadata": {
    "collapsed": true
   },
   "outputs": [],
   "source": [
    "def suggestTeam(dictOfMyPlayers,dictOfPlayersBelongingToOtherBidders):\n",
    "    plas=ampl.getSet(\"Players\").getValues()\n",
    "    valuesForOtherPlayersAmpl={}\n",
    "    valuesForMyPlayersAmpl={}\n",
    "    for name in plas:\n",
    "        name=name[0]\n",
    "        #print(name)\n",
    "        valuesForMyPlayersAmpl[name]=0\n",
    "        valuesForOtherPlayersAmpl[name]=0\n",
    "    budget=500\n",
    "    for player,cost in dictOfPlayersBelongingToOtherBidders.items():\n",
    "        valuesForOtherPlayersAmpl[player]=1\n",
    "    for player,cost in dictOfMyPlayers.items():\n",
    "        budget-=cost\n",
    "        valuesForMyPlayersAmpl[player]=1\n",
    "        \n",
    "    if valuesForOtherPlayersAmpl:\n",
    "        ampl.getParameter(\"alreadyBoughtByOther\").setValues(valuesForOtherPlayersAmpl)\n",
    "    if valuesForMyPlayersAmpl:\n",
    "        ampl.getParameter(\"alreadyBoughtByMe\").setValues(valuesForMyPlayersAmpl)\n",
    "        \n",
    "        \n",
    "    \n",
    "    ampl.getParameter(\"budget\").set(budget)\n",
    "    ampl.solve()\n"
   ]
  },
  {
   "cell_type": "code",
   "execution_count": 7,
   "metadata": {},
   "outputs": [
    {
     "name": "stdout",
     "output_type": "stream",
     "text": [
      "CPLEX 12.8.0.0: optimal integer solution within mipgap or absmipgap; objective 75.12930728\n",
      "65775 MIP simplex iterations\n",
      "601 branch-and-bound nodes\n",
      "absmipgap = 0.00746542, relmipgap = 9.93676e-05\n"
     ]
    }
   ],
   "source": [
    "suggestTeam(dictOfMyPlayers,dictOfPlayersBelongingToOtherBidders)"
   ]
  },
  {
   "cell_type": "code",
   "execution_count": 8,
   "metadata": {},
   "outputs": [
    {
     "name": "stdout",
     "output_type": "stream",
     "text": [
      "Module: m442\n",
      "\n",
      "\n",
      "{'IMMOBILE': ['Pc'], 'KOUAME': ['A'], 'MILINKOVICSAVIC': ['C', 'T'], 'HATEBOER': ['E'], 'LIROLA': ['Dd', 'E'], 'BASELLI': ['C', 'T'], 'MILENKOVIC': ['Dd', 'Dc'], 'HANDANOVIC': ['Por'], 'GAGLIOLO': ['Ds', 'Dc'], 'DELIGT': ['Dc'], 'DUNCAN': ['M', 'C'], 'SZCZESNY': ['Por'], 'UNDER': ['W', 'A'], 'DANILO': ['Dd', 'Ds', 'E'], 'SCHONE': ['C'], 'LAMANTIA': ['Pc'], 'SALAMON': ['Dc'], 'ROSSETTINI': ['Dd', 'Dc'], 'SANDRO': ['M', 'C'], 'MOROSINI': ['T', 'A'], 'BERISHAE': ['Por'], 'TONALI': ['M', 'C'], 'TOLJAN': ['Dd', 'Ds', 'E'], 'ZMRHAL': ['C', 'W'], 'JORONEN': ['Por'], 'AYE': ['Pc'], 'JONY': ['E', 'W'], 'LOFASO': ['T', 'A']}\n"
     ]
    }
   ],
   "source": [
    "buy=ampl.getVariable(\"putPlayerInSlot\")\n",
    "cost=ampl.getParameter(\"cost\")\n",
    "pfs=ampl.getParameter(\"performance\")\n",
    "moduleChosen=ampl.getVariable(\"bidderChoosesModule\")\n",
    "\n",
    "roles=ampl.getSet(\"CompatibilityPlayerRole\").getValues().toDict()\n",
    "\n",
    "solution=buy.getValues().toDict()\n",
    "costs=cost.getValues().toDict()\n",
    "pfs=pfs.getValues().toDict()\n",
    "modules=moduleChosen.getValues().toDict()\n",
    "moduleUsed=\"AAA\"\n",
    "for moduleName,taken in modules.items():\n",
    "    if taken>0.5:\n",
    "        print(\"Module: {}\\n\\n\".format(moduleName))\n",
    "        moduleUsed=moduleName\n",
    "\n",
    "myPls=[]\n",
    "for key,val in solution.items():\n",
    "    if key[0]==moduleName:\n",
    "        if val>0.5:\n",
    "            myPls.append(key[1])\n",
    "rolesA={}\n",
    "\n",
    "for key,val in roles.items():\n",
    "    if key[0] in myPls:\n",
    "        if key[0] not in rolesA.keys():\n",
    "            rolesA[key[0]]=[]\n",
    "        rolesA[key[0]].append(key[1])\n",
    "print(rolesA)"
   ]
  },
  {
   "cell_type": "code",
   "execution_count": 9,
   "metadata": {},
   "outputs": [
    {
     "name": "stdout",
     "output_type": "stream",
     "text": [
      "AYE                 1.0   ['Pc']  \n",
      "BASELLI                 34.2345197782608   ['C', 'T']  \n",
      "BERISHAE                 1.0   ['Por']  \n",
      "DANILO                 10.6105758786682   ['Dd', 'Ds', 'E']  \n",
      "DELIGT                 15.977830343798699   ['Dc']  \n",
      "DUNCAN                 15.0250100059326   ['M', 'C']  \n",
      "GAGLIOLO                 26.422039727314   ['Ds', 'Dc']  \n",
      "HANDANOVIC                 29.389469124816397   ['Por']  \n",
      "HATEBOER                 36.355050077803504   ['E']  \n",
      "IMMOBILE                 48.162399129591705   ['Pc']  \n",
      "JONY                 1.0   ['E', 'W']  \n",
      "JORONEN                 1.0   ['Por']  \n",
      "KOUAME                 43.609495839397   ['A']  \n",
      "LAMANTIA                 2.55969418097252   ['Pc']  \n",
      "LIROLA                 34.3756696279207   ['Dd', 'E']  \n",
      "LOFASO                 1.0   ['T', 'A']  \n",
      "MILENKOVIC                 30.663100326399398   ['Dd', 'Dc']  \n",
      "MILINKOVICSAVIC                 40.1304754368859   ['C', 'T']  \n",
      "MOROSINI                 1.0   ['T', 'A']  \n",
      "ROSSETTINI                 1.0   ['Dd', 'Dc']  \n",
      "SALAMON                 1.0   ['Dc']  \n",
      "SANDRO                 1.0   ['M', 'C']  \n",
      "SCHONE                 5.2433214135377595   ['C']  \n",
      "SZCZESNY                 13.948332082945   ['Por']  \n",
      "TOLJAN                 1.0   ['Dd', 'Ds', 'E']  \n",
      "TONALI                 1.0   ['M', 'C']  \n",
      "UNDER                 12.7830251845894   ['W', 'A']  \n",
      "ZMRHAL                 1.0   ['C', 'W']  \n"
     ]
    }
   ],
   "source": [
    "for player in myPls:\n",
    "    message=\"{}                 {}   {}  \".format(player,costs[player],rolesA[player])\n",
    "    print(message)"
   ]
  }
 ],
 "metadata": {
  "kernelspec": {
   "display_name": "Python 3",
   "language": "python",
   "name": "python3"
  },
  "language_info": {
   "codemirror_mode": {
    "name": "ipython",
    "version": 3
   },
   "file_extension": ".py",
   "mimetype": "text/x-python",
   "name": "python",
   "nbconvert_exporter": "python",
   "pygments_lexer": "ipython3",
   "version": "3.6.9"
  }
 },
 "nbformat": 4,
 "nbformat_minor": 2
}
