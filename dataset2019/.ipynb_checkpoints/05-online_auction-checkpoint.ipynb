{
 "cells": [
  {
   "cell_type": "code",
   "execution_count": 1,
   "metadata": {
    "collapsed": true
   },
   "outputs": [],
   "source": [
    "import pandas as pd"
   ]
  },
  {
   "cell_type": "code",
   "execution_count": 2,
   "metadata": {
    "collapsed": true
   },
   "outputs": [],
   "source": [
    "from amplpy import AMPL,Environment\n",
    "ampl = AMPL(Environment('/home/asino/Downloads/ampl_linux-intel64/'))\n",
    "ampl.setOption(\"solver\",\"/home/asino/Downloads/ampl_linux-intel64/cplex\")"
   ]
  },
  {
   "cell_type": "code",
   "execution_count": 3,
   "metadata": {},
   "outputs": [],
   "source": [
    "bought=pd.read_csv(\"auction.csv\")\n",
    "dictOfMyPlayers={}\n",
    "dictOfPlayersBelongingToOtherBidders={}\n",
    "for idx,player in bought.iterrows():\n",
    "    if player[\"Owner\"]==\"me\":\n",
    "        dictOfMyPlayers[player[\"Name\"]]=player[\"Price\"]\n",
    "    else:\n",
    "        dictOfPlayersBelongingToOtherBidders[player[\"Name\"]]=player[\"Price\"]\n"
   ]
  },
  {
   "cell_type": "code",
   "execution_count": 4,
   "metadata": {},
   "outputs": [
    {
     "name": "stdout",
     "output_type": "stream",
     "text": [
      "Warning:\n",
      "\tonline-auction.mod\n",
      "\tline 39 offset 1150\n",
      "\tCaution: 0-dimensional slice\n"
     ]
    }
   ],
   "source": [
    "ampl.read(\"online-auction.mod\")\n",
    "ampl.readData(\"fantasy-auction-mantra-online.dat\")"
   ]
  },
  {
   "cell_type": "code",
   "execution_count": 5,
   "metadata": {
    "collapsed": true
   },
   "outputs": [],
   "source": [
    "def suggestTeam(dictOfMyPlayers,dictOfPlayersBelongingToOtherBidders):\n",
    "    plas=ampl.getSet(\"Players\").getValues()\n",
    "    valuesForOtherPlayersAmpl={}\n",
    "    valuesForMyPlayersAmpl={}\n",
    "    for name in plas:\n",
    "        name=name[0]\n",
    "        #print(name)\n",
    "        valuesForMyPlayersAmpl[name]=0\n",
    "        valuesForOtherPlayersAmpl[name]=0\n",
    "    budget=500\n",
    "    for player,cost in dictOfPlayersBelongingToOtherBidders.items():\n",
    "        valuesForOtherPlayersAmpl[player]=1\n",
    "    for player,cost in dictOfMyPlayers.items():\n",
    "        budget-=cost\n",
    "        valuesForMyPlayersAmpl[player]=1\n",
    "        \n",
    "    if valuesForOtherPlayersAmpl:\n",
    "        ampl.getParameter(\"alreadyBoughtByOther\").setValues(valuesForOtherPlayersAmpl)\n",
    "    if valuesForMyPlayersAmpl:\n",
    "        ampl.getParameter(\"alreadyBoughtByMe\").setValues(valuesForMyPlayersAmpl)\n",
    "        \n",
    "        \n",
    "    \n",
    "    ampl.getParameter(\"budget\").set(budget)\n",
    "    ampl.solve()\n"
   ]
  },
  {
   "cell_type": "code",
   "execution_count": 6,
   "metadata": {},
   "outputs": [
    {
     "name": "stdout",
     "output_type": "stream",
     "text": [
      "CPLEX 12.8.0.0: optimal integer solution within mipgap or absmipgap; objective 84.58497277\n",
      "33032 MIP simplex iterations\n",
      "0 branch-and-bound nodes\n",
      "absmipgap = 0.00317744, relmipgap = 3.75651e-05\n"
     ]
    }
   ],
   "source": [
    "suggestTeam(dictOfMyPlayers,dictOfPlayersBelongingToOtherBidders)"
   ]
  },
  {
   "cell_type": "code",
   "execution_count": 7,
   "metadata": {},
   "outputs": [
    {
     "name": "stdout",
     "output_type": "stream",
     "text": [
      "Module: m442\n",
      "\n",
      "\n"
     ]
    }
   ],
   "source": [
    "buy=ampl.getVariable(\"putPlayerInSlot\")\n",
    "cost=ampl.getParameter(\"cost\")\n",
    "moduleChosen=ampl.getVariable(\"bidderChoosesModule\")\n",
    "solution=buy.getValues().toDict()\n",
    "costs=cost.getValues().toDict()\n",
    "modules=moduleChosen.getValues().toDict()\n",
    "moduleUsed=\"AAA\"\n",
    "for moduleName,taken in modules.items():\n",
    "    if taken>0.5:\n",
    "        print(\"Module: {}\\n\\n\".format(moduleName))\n",
    "        moduleUsed=moduleName\n",
    "\n",
    "myPls=[]\n",
    "for key,val in solution.items():\n",
    "    if key[0]==moduleName:\n",
    "        if val>0.5:\n",
    "            myPls.append(key[1])\n",
    "        "
   ]
  },
  {
   "cell_type": "code",
   "execution_count": 8,
   "metadata": {},
   "outputs": [
    {
     "name": "stdout",
     "output_type": "stream",
     "text": [
      "ADEKANYE 1.0\n",
      "BERISHAE 1.0\n",
      "CISTANA 1.0\n",
      "CRISTIANORONALDO 99.1702745533213\n",
      "DENSWIL 1.0\n",
      "HERNANDEZT 1.0\n",
      "IGOR 1.0\n",
      "IZZO 41.974783627056\n",
      "KOLAROV 35.6066276191414\n",
      "LAZOVIC 31.4903040964996\n",
      "LIROLA 34.3756696279207\n",
      "LUIZFELIPE 1.0\n",
      "LUKIC 1.0\n",
      "MANDRAGORA 28.8773906004686\n",
      "MILENKOVIC 30.663100326399398\n",
      "MILINKOVICSAVIC 40.1304754368859\n",
      "MOROSINI 1.0\n",
      "MURILLO 1.0\n",
      "POLITANO 39.9592950760975\n",
      "RODRIGUEZR 1.0\n",
      "ROSSETTINI 1.0\n",
      "SALAMON 1.0\n",
      "SANDRO 1.0\n",
      "SIRIGU 28.378442294693798\n",
      "SKRTEL 1.0\n",
      "TONALI 1.0\n",
      "ZAPATAD 72.3340022276688\n",
      "ZMRHAL 1.0\n"
     ]
    }
   ],
   "source": [
    "for player in myPls:\n",
    "    message=\"{} {}\".format(player,costs[player])\n",
    "    print(message)"
   ]
  }
 ],
 "metadata": {
  "kernelspec": {
   "display_name": "Python 3",
   "language": "python",
   "name": "python3"
  },
  "language_info": {
   "codemirror_mode": {
    "name": "ipython",
    "version": 3
   },
   "file_extension": ".py",
   "mimetype": "text/x-python",
   "name": "python",
   "nbconvert_exporter": "python",
   "pygments_lexer": "ipython3",
   "version": "3.6.9"
  }
 },
 "nbformat": 4,
 "nbformat_minor": 2
}
