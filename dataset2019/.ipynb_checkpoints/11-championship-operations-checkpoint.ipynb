{
 "cells": [
  {
   "cell_type": "code",
   "execution_count": 1,
   "metadata": {
    "collapsed": true
   },
   "outputs": [],
   "source": [
    "import pandas as pd"
   ]
  },
  {
   "cell_type": "code",
   "execution_count": 2,
   "metadata": {},
   "outputs": [],
   "source": [
    "from bs4 import BeautifulSoup\n",
    "import urllib.request\n"
   ]
  },
  {
   "cell_type": "code",
   "execution_count": 3,
   "metadata": {},
   "outputs": [
    {
     "name": "stdout",
     "output_type": "stream",
     "text": [
      "{'CRISCITO': 90.0, 'STRAKOSHA': 90.0, 'ZIELINSKI': 75.0, 'KURTIC': 90.0, 'ZAPATAD': 60.0, 'IZZO': 90.0, 'NKOULOU': 0, 'KOULIBALY': 85.0, 'POLITANO': 45.0, 'KESSIE': 0, 'BONIFAZI': 65.0, 'MURRU': 85.0, 'RADU': 85.0, 'QUAGLIARELLA': 90.0, 'VERETOUT': 55.0, 'GOMEZA': 60.0, 'BONUCCI': 80.0, 'BERISHAE': 90.0, 'FLORENZI': 90.0, 'MARTINEZL': 55.0, 'CHIELLINI': 0, 'MILENKOVIC': 90.0, 'SUSO': 90.0, 'MANDRAGORA': 90.0, 'NANDEZ': 55.0, 'IAGOFALQUE': 55.0, 'BALOTELLI': 0, 'PROTO': 5.0}\n"
     ]
    }
   ],
   "source": [
    "LIKELY_FORMATIONS=\"likely-formations.html\"\n",
    "ME=\"me\"\n",
    "THRESHOLD=35\n",
    "bought=pd.read_csv(\"availability-of-players.csv\")\n",
    "import re\n",
    "def download_html():\n",
    "\ttry:\n",
    "\t\thtml=urllib.request.urlopen (\"https://www.fantacalcio.it/probabili-formazioni-serie-a\").read()\n",
    "\t\tprint(\"Server Online\")\n",
    "\t\twith open(LIKELY_FORMATIONS,\"w\") as formations_file:\n",
    "\t\t\n",
    "\t\t\tformations_file.write(str(html))\n",
    "\texcept urllib.error.HTTPError as e:\n",
    "\t\tprint(\"Server Offline\")\n",
    "\t\t#do stuff here\n",
    "\texcept urllib.error.URLError as e:\n",
    "\t\tprint(\"Server Offline\")\n",
    "        \n",
    "def retrieve_players_html():\n",
    "\twith open(LIKELY_FORMATIONS,\"r\") as formations_file:\n",
    "\t\treturn formations_file.read()\n",
    "\n",
    "def probabilityOFEnteringLate(player_name,parsed_html):\n",
    "    for a in parsed_html.find_all('a'):\n",
    "        if player_name in a.contents:\n",
    "            try:\n",
    "                parent=a.parent.parent\n",
    "                \n",
    "                parent=parent.contents[0]\n",
    "                indexOnString=str(parent).find(\"I.S.\")\n",
    "                cont=str(parent)[indexOnString+4:indexOnString+8]\n",
    "                c2=re.findall(r\"[0-9]+\",cont)\n",
    "                return float(c2[0])\n",
    "                print(c2)\n",
    "                content=parent.contents[1]\n",
    "\n",
    "                content=content.strip(\"I.S. \")\n",
    "                content=content.strip(\"%\")\n",
    "                content=content.strip(\" \")\n",
    "                percentage=content\n",
    "                return float(percentage)\n",
    "            except AttributeError:\n",
    "                return 0\n",
    "def probability_of_being_in_first_team(player_name,parsed_html):\n",
    "    for a in parsed_html.find_all('a'):\n",
    "        if player_name in a.contents:\n",
    "            try:\n",
    "                parent=a.parent.parent\n",
    "                parent=parent.contents[1]\n",
    "                parent=parent.contents[0]\n",
    "                parent=parent.contents[0] #90%\n",
    "\n",
    "                percentage=parent.contents[0]\n",
    "                return (float(percentage.strip(\"%\")))\n",
    "            except AttributeError:\n",
    "                return probabilityOFEnteringLate(player_name,parsed_html)\n",
    "    return 0\n",
    "\n",
    "\n",
    "def first_team(bought):\n",
    "    html=str(retrieve_players_html())\n",
    "    parsed_html = BeautifulSoup(html, 'html.parser')\n",
    "    all={}\n",
    "    for idx,player in bought.iterrows():\n",
    "        if player[\"Owner\"]==ME:\n",
    "            probability=probability_of_being_in_first_team(player[\"OriginalName\"],parsed_html)\n",
    "            #print(\"{} {}\".format(player[\"OriginalName\"],probability) )\n",
    "            all[player[\"Name\"]]=probability\n",
    "    return all\n",
    "probabilities=first_team(bought)\n",
    "print(probabilities)"
   ]
  },
  {
   "cell_type": "code",
   "execution_count": 4,
   "metadata": {
    "collapsed": true
   },
   "outputs": [],
   "source": [
    "from amplpy import AMPL,Environment\n",
    "ampl = AMPL(Environment('/home/asino/Downloads/ampl_linux-intel64/'))\n",
    "ampl.setOption(\"solver\",\"/home/asino/Downloads/ampl_linux-intel64/cplex\")\n",
    "ampl.setOption(\"absmipgap\",1)\n",
    "\n"
   ]
  },
  {
   "cell_type": "code",
   "execution_count": 5,
   "metadata": {},
   "outputs": [
    {
     "name": "stdout",
     "output_type": "stream",
     "text": [
      "{'CRISCITO': 0, 'STRAKOSHA': 0, 'ZIELINSKI': 0, 'KURTIC': 0, 'ZAPATAD': 0, 'IZZO': 0, 'NKOULOU': 1, 'KOULIBALY': 0, 'POLITANO': 0, 'KESSIE': 1, 'BONIFAZI': 0, 'MURRU': 0, 'RADU': 0, 'QUAGLIARELLA': 0, 'VERETOUT': 0, 'GOMEZA': 0, 'BONUCCI': 0, 'BERISHAE': 0, 'FLORENZI': 0, 'MARTINEZL': 0, 'CHIELLINI': 1, 'MILENKOVIC': 0, 'SUSO': 0, 'MANDRAGORA': 0, 'NANDEZ': 0, 'IAGOFALQUE': 0, 'BALOTELLI': 1, 'PROTO': 1}\n"
     ]
    }
   ],
   "source": [
    "def fillDictOfBrokenPlayers():\n",
    "    bought=pd.read_csv(\"availability-of-players.csv\")\n",
    "    dictOfMyPlayers={}\n",
    "    dictOfBrokenPlayers={}\n",
    "    for idx,player in bought.iterrows():\n",
    "        if player[\"Owner\"]==ME:\n",
    "            if player[\"CanPlay\"]==0:\n",
    "                dictOfBrokenPlayers[player[\"Name\"]]=1\n",
    "            else:\n",
    "                dictOfBrokenPlayers[player[\"Name\"]]=0\n",
    "            if probabilities[player[\"Name\"]]<THRESHOLD:\n",
    "                dictOfBrokenPlayers[player[\"Name\"]]=1\n",
    "    return dictOfBrokenPlayers\n",
    "\n",
    "dictOfBrokenPlayers=fillDictOfBrokenPlayers()\n",
    "print(dictOfBrokenPlayers)   "
   ]
  },
  {
   "cell_type": "code",
   "execution_count": 6,
   "metadata": {},
   "outputs": [
    {
     "name": "stdout",
     "output_type": "stream",
     "text": [
      "Warning:\n",
      "\t07-prepare-selection.mod\n",
      "\tline 33 offset 991\n",
      "\tCaution: 0-dimensional slice\n"
     ]
    }
   ],
   "source": [
    "ampl.read(\"07-prepare-selection.mod\")\n",
    "ampl.readData(\"operations-mantra-online.dat\")\n",
    "setOfPlayers=ampl.getSet(\"Players\")\n",
    "#setOfPlayers.setValues([\"CIAO\"])"
   ]
  },
  {
   "cell_type": "code",
   "execution_count": 17,
   "metadata": {
    "scrolled": true
   },
   "outputs": [
    {
     "ename": "IndexError",
     "evalue": "tuple index out of range",
     "output_type": "error",
     "traceback": [
      "\u001b[0;31m---------------------------------------------------------------------------\u001b[0m",
      "\u001b[0;31mIndexError\u001b[0m                                Traceback (most recent call last)",
      "\u001b[0;32m<ipython-input-17-cdde15cdcc7f>\u001b[0m in \u001b[0;36m<module>\u001b[0;34m()\u001b[0m\n\u001b[1;32m     66\u001b[0m     \u001b[0mmessages\u001b[0m\u001b[0;34m=\u001b[0m\u001b[0msorted\u001b[0m\u001b[0;34m(\u001b[0m\u001b[0mmessages\u001b[0m\u001b[0;34m,\u001b[0m\u001b[0mkey\u001b[0m\u001b[0;34m=\u001b[0m\u001b[0;32mlambda\u001b[0m \u001b[0mpippo\u001b[0m\u001b[0;34m:\u001b[0m\u001b[0mpippo\u001b[0m\u001b[0;34m[\u001b[0m\u001b[0;34m\"ROLES\"\u001b[0m\u001b[0;34m]\u001b[0m\u001b[0;34m[\u001b[0m\u001b[0;36m0\u001b[0m\u001b[0;34m]\u001b[0m\u001b[0;34m)\u001b[0m\u001b[0;34m\u001b[0m\u001b[0;34m\u001b[0m\u001b[0m\n\u001b[1;32m     67\u001b[0m     \u001b[0;32mreturn\u001b[0m \u001b[0mglobalPerf\u001b[0m\u001b[0;34m,\u001b[0m\u001b[0mmoduleUsed\u001b[0m\u001b[0;34m,\u001b[0m\u001b[0mmessage\u001b[0m\u001b[0;34m,\u001b[0m\u001b[0memptySlotsInField\u001b[0m\u001b[0;34m,\u001b[0m\u001b[0memptySlotsOutside\u001b[0m\u001b[0;34m\u001b[0m\u001b[0;34m\u001b[0m\u001b[0m\n\u001b[0;32m---> 68\u001b[0;31m \u001b[0m_\u001b[0m\u001b[0;34m,\u001b[0m\u001b[0m_\u001b[0m\u001b[0;34m,\u001b[0m\u001b[0mmsg\u001b[0m\u001b[0;34m,\u001b[0m\u001b[0m_\u001b[0m\u001b[0;34m,\u001b[0m\u001b[0m_\u001b[0m\u001b[0;34m=\u001b[0m\u001b[0manalyseSolution\u001b[0m\u001b[0;34m(\u001b[0m\u001b[0;34m)\u001b[0m\u001b[0;34m\u001b[0m\u001b[0;34m\u001b[0m\u001b[0m\n\u001b[0m",
      "\u001b[0;32m<ipython-input-17-cdde15cdcc7f>\u001b[0m in \u001b[0;36manalyseSolution\u001b[0;34m()\u001b[0m\n\u001b[1;32m     56\u001b[0m         \u001b[0;32mtry\u001b[0m\u001b[0;34m:\u001b[0m\u001b[0;34m\u001b[0m\u001b[0;34m\u001b[0m\u001b[0m\n\u001b[1;32m     57\u001b[0m             \u001b[0mmessage\u001b[0m\u001b[0;34m+=\u001b[0m\u001b[0;34m(\u001b[0m\u001b[0;34m\"{} {} plays  in slot {}  \\n\"\u001b[0m\u001b[0;34m.\u001b[0m\u001b[0mformat\u001b[0m\u001b[0;34m(\u001b[0m\u001b[0mprivilege\u001b[0m\u001b[0;34m,\u001b[0m \u001b[0mmyPls\u001b[0m\u001b[0;34m[\u001b[0m\u001b[0mslotNr\u001b[0m\u001b[0;34m]\u001b[0m\u001b[0;34m,\u001b[0m \u001b[0mpossibleRoles\u001b[0m\u001b[0;34m)\u001b[0m\u001b[0;34m)\u001b[0m\u001b[0;34m\u001b[0m\u001b[0;34m\u001b[0m\u001b[0m\n\u001b[0;32m---> 58\u001b[0;31m             \u001b[0mtexts\u001b[0m\u001b[0;34m.\u001b[0m\u001b[0mappend\u001b[0m\u001b[0;34m(\u001b[0m\u001b[0;34m\"{} {} plays  in slot {}  {}\\n\"\u001b[0m\u001b[0;34m.\u001b[0m\u001b[0mformat\u001b[0m\u001b[0;34m(\u001b[0m\u001b[0mprivilege\u001b[0m\u001b[0;34m,\u001b[0m\u001b[0mpossibleRoles\u001b[0m\u001b[0;34m,\u001b[0m\u001b[0mmyPls\u001b[0m\u001b[0;34m[\u001b[0m\u001b[0mslotNr\u001b[0m\u001b[0;34m]\u001b[0m\u001b[0;34m)\u001b[0m\u001b[0;34m)\u001b[0m\u001b[0;34m\u001b[0m\u001b[0;34m\u001b[0m\u001b[0m\n\u001b[0m\u001b[1;32m     59\u001b[0m         \u001b[0;32mexcept\u001b[0m \u001b[0mKeyError\u001b[0m\u001b[0;34m:\u001b[0m\u001b[0;34m\u001b[0m\u001b[0;34m\u001b[0m\u001b[0m\n\u001b[1;32m     60\u001b[0m             \u001b[0;32mif\u001b[0m \u001b[0mprivilege\u001b[0m\u001b[0;34m==\u001b[0m\u001b[0;34m\"TOP\"\u001b[0m\u001b[0;34m:\u001b[0m\u001b[0;34m\u001b[0m\u001b[0;34m\u001b[0m\u001b[0m\n",
      "\u001b[0;31mIndexError\u001b[0m: tuple index out of range"
     ]
    }
   ],
   "source": [
    "def analyseSolution():\n",
    "    putPlayerInSlot=ampl.getVariable(\"putPlayerInSlot\")\n",
    "    cost=ampl.getParameter(\"cost\")\n",
    "    pfs=ampl.getParameter(\"performance\")\n",
    "    moduleChosen=ampl.getVariable(\"bidderChoosesModule\")\n",
    "    globalPerf=ampl.getVariable(\"minPerf\").value()\n",
    "    \n",
    "    roles=ampl.getSet(\"CompatibilityPlayerRole\").getValues().toDict()\n",
    "    slots=ampl.getSet(\"CompatibilitySlotRole\").getValues().toDict()\n",
    "    solution=putPlayerInSlot.getValues().toDict()\n",
    "    costs=cost.getValues().toDict()\n",
    "    pfs=pfs.getValues().toDict()\n",
    "    modules=moduleChosen.getValues().toDict()\n",
    "    moduleUsed=\"AAA\"\n",
    "    \n",
    "\n",
    "    for moduleName,taken in modules.items():\n",
    "        if taken>0.5:\n",
    "            #print(\"Module: {}\\n\\n\".format(moduleName))\n",
    "            moduleUsed=moduleName\n",
    "    myPls={}\n",
    "    for key,val in solution.items():\n",
    "\n",
    "        if key[0]==moduleUsed:\n",
    "            if val>0.5:\n",
    "                myPls[key[2]]=key[1]\n",
    "                #print(key,val)\n",
    "    rolesA={}\n",
    "\n",
    "    #To show the roles of each player\n",
    "    for key,val in roles.items():\n",
    "        if key[0] not in rolesA.keys():\n",
    "            rolesA[key[0]]=[]\n",
    "        rolesA[key[0]].append(key[1])\n",
    "\n",
    "\n",
    "    mappingSlotNumberToPossibleRoles={}\n",
    "    for key,val in slots.items():\n",
    "        if key[0]==moduleUsed:\n",
    "\n",
    "            slotNr=key[1]\n",
    "            role=key[2]\n",
    "            if slotNr not in mappingSlotNumberToPossibleRoles.keys():\n",
    "                mappingSlotNumberToPossibleRoles[slotNr]=[]\n",
    "            mappingSlotNumberToPossibleRoles[slotNr].append(role)\n",
    "\n",
    "    emptySlotsInField=0\n",
    "    emptySlotsOutside=0\n",
    "    message=\"\"\n",
    "    texts=[]\n",
    "    for slotNr,possibleRoles in mappingSlotNumberToPossibleRoles.items():\n",
    "        if slotNr<=11:\n",
    "            privilege=\"TOP\"\n",
    "        else:\n",
    "            privilege=\"NO\"\n",
    "        try:\n",
    "            message+=(\"{} {} plays  in slot {}  \\n\".format(privilege, myPls[slotNr], possibleRoles))\n",
    "            texts.append(\"{} {} plays  in slot {}\\n\".format(privilege,possibleRoles,myPls[slotNr]))\n",
    "        except KeyError:\n",
    "            if privilege==\"TOP\":\n",
    "                emptySlotsInField+=1\n",
    "            else:\n",
    "                emptySlotsOutside+=1\n",
    "    texts=sorted(texts)\n",
    "    print(texts)\n",
    "    messages=sorted(messages,key=lambda pippo:pippo[\"ROLES\"][0])\n",
    "    return globalPerf,moduleUsed,message,emptySlotsInField,emptySlotsOutside\n",
    "_,_,msg,_,_=analyseSolution()\n"
   ]
  },
  {
   "cell_type": "code",
   "execution_count": 8,
   "metadata": {},
   "outputs": [
    {
     "name": "stdout",
     "output_type": "stream",
     "text": [
      "CPLEX 12.8.0.0: optimal integer solution; objective 86.05632578\n",
      "1130 MIP simplex iterations\n",
      "0 branch-and-bound nodes\n",
      "0\n",
      "m442\n",
      "IZZO plays  in slot ['Dc']  TOP\n",
      "KOULIBALY plays  in slot ['Dc']  TOP\n",
      "MILENKOVIC plays  in slot ['Dd']  TOP\n",
      "CRISCITO plays  in slot ['Ds']  TOP\n",
      "QUAGLIARELLA plays  in slot ['A', 'Pc']  TOP\n",
      "ZAPATAD plays  in slot ['A', 'Pc']  TOP\n",
      "ZIELINSKI plays  in slot ['C']  TOP\n",
      "MURRU plays  in slot ['E']  TOP\n",
      "VERETOUT plays  in slot ['C', 'M']  TOP\n",
      "SUSO plays  in slot ['E', 'W']  TOP\n",
      "STRAKOSHA plays  in slot ['Por']  TOP\n",
      "BONUCCI plays  in slot ['Dc']  NO\n",
      "BONIFAZI plays  in slot ['Dc']  NO\n",
      "FLORENZI plays  in slot ['Dd']  NO\n",
      "RADU plays  in slot ['Ds']  NO\n",
      "MARTINEZL plays  in slot ['A', 'Pc']  NO\n",
      "GOMEZA plays  in slot ['A', 'Pc']  NO\n",
      "MANDRAGORA plays  in slot ['C']  NO\n",
      "KURTIC plays  in slot ['C', 'M']  NO\n",
      "POLITANO plays  in slot ['E', 'W']  NO\n",
      "BERISHAE plays  in slot ['Por']  NO\n",
      "\n"
     ]
    }
   ],
   "source": [
    "def suggestTeam(dictOfBrokenPlayers):\n",
    "    plas=ampl.getSet(\"Players\").getValues()\n",
    "    valuesForBrokenPlayersAmpl={}\n",
    "    for name in plas:\n",
    "        name=name[0]\n",
    "        #print(name)\n",
    "        valuesForBrokenPlayersAmpl[name]=0\n",
    "    for player,value in dictOfBrokenPlayers.items():\n",
    "        valuesForBrokenPlayersAmpl[player]=value\n",
    "    ampl.getParameter(\"broken\").setValues(valuesForBrokenPlayersAmpl)\n",
    "        \n",
    "        \n",
    "        \n",
    "    \n",
    "    ampl.solve()\n",
    "suggestTeam(dictOfBrokenPlayers)\n",
    "_,mod,msg,inf,_=analyseSolution()\n",
    "print(inf)\n",
    "print(mod)\n",
    "print(msg)"
   ]
  },
  {
   "cell_type": "code",
   "execution_count": 9,
   "metadata": {},
   "outputs": [
    {
     "data": {
      "text/plain": [
       "'\\npls=dictOfBrokenPlayers.keys()\\ndictOfEffects={}\\nsolidPlayers=[\"STRAKOSHA\",\"BERISHAE\",\"IZZO\"]\\nfor player in pls:\\n    for p2 in pls:\\n        if player >p2:\\n            if player not in solidPlayers and p2 not in solidPlayers:\\n                broks=fillDictOfBrokenPlayers()\\n                broks[player]=1\\n                broks[p2]=1\\n                suggestTeam(broks)\\n                dictOfEffects[(player,p2)]=(analyseSolution())\\n#suggestTeam({},{})\\n'"
      ]
     },
     "execution_count": 9,
     "metadata": {},
     "output_type": "execute_result"
    }
   ],
   "source": [
    "'''\n",
    "pls=dictOfBrokenPlayers.keys()\n",
    "dictOfEffects={}\n",
    "solidPlayers=[\"STRAKOSHA\",\"BERISHAE\",\"IZZO\"]\n",
    "for player in pls:\n",
    "    for p2 in pls:\n",
    "        if player >p2:\n",
    "            if player not in solidPlayers and p2 not in solidPlayers:\n",
    "                broks=fillDictOfBrokenPlayers()\n",
    "                broks[player]=1\n",
    "                broks[p2]=1\n",
    "                suggestTeam(broks)\n",
    "                dictOfEffects[(player,p2)]=(analyseSolution())\n",
    "#suggestTeam({},{})\n",
    "'''"
   ]
  },
  {
   "cell_type": "code",
   "execution_count": 10,
   "metadata": {},
   "outputs": [
    {
     "data": {
      "text/plain": [
       "'\\ncouples=dictOfEffects.keys()\\ncp=sorted(couples,key=lambda k:dictOfEffects[k][0])\\nfor i in range(10):\\n    print(cp[i],dictOfEffects[cp[i]][0])\\n    #print(dictOfEffects[cp[i]][2])\\n    #break\\n'"
      ]
     },
     "execution_count": 10,
     "metadata": {},
     "output_type": "execute_result"
    }
   ],
   "source": [
    "'''\n",
    "couples=dictOfEffects.keys()\n",
    "cp=sorted(couples,key=lambda k:dictOfEffects[k][0])\n",
    "for i in range(10):\n",
    "    print(cp[i],dictOfEffects[cp[i]][0])\n",
    "    #print(dictOfEffects[cp[i]][2])\n",
    "    #break\n",
    "'''"
   ]
  }
 ],
 "metadata": {
  "kernelspec": {
   "display_name": "Python 3",
   "language": "python",
   "name": "python3"
  },
  "language_info": {
   "codemirror_mode": {
    "name": "ipython",
    "version": 3
   },
   "file_extension": ".py",
   "mimetype": "text/x-python",
   "name": "python",
   "nbconvert_exporter": "python",
   "pygments_lexer": "ipython3",
   "version": "3.6.9"
  }
 },
 "nbformat": 4,
 "nbformat_minor": 2
}
